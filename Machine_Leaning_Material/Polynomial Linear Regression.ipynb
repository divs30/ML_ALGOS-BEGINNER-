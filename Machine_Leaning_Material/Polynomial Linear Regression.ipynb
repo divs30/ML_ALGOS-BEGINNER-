{
 "cells": [
  {
   "cell_type": "code",
   "execution_count": 49,
   "id": "8541f43c",
   "metadata": {},
   "outputs": [],
   "source": [
    "import numpy as np\n",
    "import pandas as pd\n",
    "#building linear model\n",
    "from sklearn.linear_model import LinearRegression\n",
    "#for applying polynomial line reg\n",
    "from sklearn.preprocessing import PolynomialFeatures\n",
    "#starting to plot\n",
    "import matplotlib.pyplot as plt"
   ]
  },
  {
   "cell_type": "code",
   "execution_count": 50,
   "id": "6fcd2e18",
   "metadata": {},
   "outputs": [],
   "source": [
    "data = pd.read_csv(r'/Users/divyashahi/OneDrive - Adobe/Machine_Leaning_Material/Position_Salaries.csv')"
   ]
  },
  {
   "cell_type": "code",
   "execution_count": 51,
   "id": "45324731",
   "metadata": {},
   "outputs": [
    {
     "data": {
      "text/html": [
       "<div>\n",
       "<style scoped>\n",
       "    .dataframe tbody tr th:only-of-type {\n",
       "        vertical-align: middle;\n",
       "    }\n",
       "\n",
       "    .dataframe tbody tr th {\n",
       "        vertical-align: top;\n",
       "    }\n",
       "\n",
       "    .dataframe thead th {\n",
       "        text-align: right;\n",
       "    }\n",
       "</style>\n",
       "<table border=\"1\" class=\"dataframe\">\n",
       "  <thead>\n",
       "    <tr style=\"text-align: right;\">\n",
       "      <th></th>\n",
       "      <th>Position</th>\n",
       "      <th>Level</th>\n",
       "      <th>Salary</th>\n",
       "    </tr>\n",
       "  </thead>\n",
       "  <tbody>\n",
       "    <tr>\n",
       "      <th>0</th>\n",
       "      <td>Business Analyst</td>\n",
       "      <td>1</td>\n",
       "      <td>45000</td>\n",
       "    </tr>\n",
       "    <tr>\n",
       "      <th>1</th>\n",
       "      <td>Junior Consultant</td>\n",
       "      <td>2</td>\n",
       "      <td>50000</td>\n",
       "    </tr>\n",
       "    <tr>\n",
       "      <th>2</th>\n",
       "      <td>Senior Consultant</td>\n",
       "      <td>3</td>\n",
       "      <td>60000</td>\n",
       "    </tr>\n",
       "    <tr>\n",
       "      <th>3</th>\n",
       "      <td>Manager</td>\n",
       "      <td>4</td>\n",
       "      <td>80000</td>\n",
       "    </tr>\n",
       "    <tr>\n",
       "      <th>4</th>\n",
       "      <td>Country Manager</td>\n",
       "      <td>5</td>\n",
       "      <td>110000</td>\n",
       "    </tr>\n",
       "    <tr>\n",
       "      <th>5</th>\n",
       "      <td>Region Manager</td>\n",
       "      <td>6</td>\n",
       "      <td>150000</td>\n",
       "    </tr>\n",
       "    <tr>\n",
       "      <th>6</th>\n",
       "      <td>Partner</td>\n",
       "      <td>7</td>\n",
       "      <td>200000</td>\n",
       "    </tr>\n",
       "    <tr>\n",
       "      <th>7</th>\n",
       "      <td>Senior Partner</td>\n",
       "      <td>8</td>\n",
       "      <td>300000</td>\n",
       "    </tr>\n",
       "    <tr>\n",
       "      <th>8</th>\n",
       "      <td>C-level</td>\n",
       "      <td>9</td>\n",
       "      <td>500000</td>\n",
       "    </tr>\n",
       "    <tr>\n",
       "      <th>9</th>\n",
       "      <td>CEO</td>\n",
       "      <td>10</td>\n",
       "      <td>1000000</td>\n",
       "    </tr>\n",
       "  </tbody>\n",
       "</table>\n",
       "</div>"
      ],
      "text/plain": [
       "            Position  Level   Salary\n",
       "0   Business Analyst      1    45000\n",
       "1  Junior Consultant      2    50000\n",
       "2  Senior Consultant      3    60000\n",
       "3            Manager      4    80000\n",
       "4    Country Manager      5   110000\n",
       "5     Region Manager      6   150000\n",
       "6            Partner      7   200000\n",
       "7     Senior Partner      8   300000\n",
       "8            C-level      9   500000\n",
       "9                CEO     10  1000000"
      ]
     },
     "execution_count": 51,
     "metadata": {},
     "output_type": "execute_result"
    }
   ],
   "source": [
    "data.head(10)"
   ]
  },
  {
   "cell_type": "code",
   "execution_count": 52,
   "id": "dedb06bb",
   "metadata": {},
   "outputs": [
    {
     "data": {
      "text/plain": [
       "array([  45000,   50000,   60000,   80000,  110000,  150000,  200000,\n",
       "        300000,  500000, 1000000])"
      ]
     },
     "execution_count": 52,
     "metadata": {},
     "output_type": "execute_result"
    }
   ],
   "source": [
    "#difference between simple linear reg and polynomial\n",
    "#here sal divided according to position unlike exp vs sal\n",
    "#here the data is non linear\n",
    "#getting x values\n",
    "#if we remove x it will become 1 d vector\n",
    "real_x = data.iloc[:, 1:2].values\n",
    "real_y = data.iloc[:, 2].values\n",
    "real_x\n",
    "real_y"
   ]
  },
  {
   "cell_type": "code",
   "execution_count": 53,
   "id": "14f6cbb7",
   "metadata": {},
   "outputs": [
    {
     "data": {
      "text/plain": [
       "LinearRegression()"
      ]
     },
     "execution_count": 53,
     "metadata": {},
     "output_type": "execute_result"
    }
   ],
   "source": [
    "#since data set is small we cannot split it into two parts\n",
    "#creating model\n",
    "linear_reg = LinearRegression()\n",
    "linear_reg.fit(real_x, real_y)"
   ]
  },
  {
   "cell_type": "code",
   "execution_count": 54,
   "id": "f6d378eb",
   "metadata": {},
   "outputs": [
    {
     "name": "stdout",
     "output_type": "stream",
     "text": [
      "[[ 1]\n",
      " [ 2]\n",
      " [ 3]\n",
      " [ 4]\n",
      " [ 5]\n",
      " [ 6]\n",
      " [ 7]\n",
      " [ 8]\n",
      " [ 9]\n",
      " [10]]\n"
     ]
    },
    {
     "data": {
      "text/plain": [
       "array([[1.000e+00, 1.000e+00, 1.000e+00, 1.000e+00, 1.000e+00],\n",
       "       [1.000e+00, 2.000e+00, 4.000e+00, 8.000e+00, 1.600e+01],\n",
       "       [1.000e+00, 3.000e+00, 9.000e+00, 2.700e+01, 8.100e+01],\n",
       "       [1.000e+00, 4.000e+00, 1.600e+01, 6.400e+01, 2.560e+02],\n",
       "       [1.000e+00, 5.000e+00, 2.500e+01, 1.250e+02, 6.250e+02],\n",
       "       [1.000e+00, 6.000e+00, 3.600e+01, 2.160e+02, 1.296e+03],\n",
       "       [1.000e+00, 7.000e+00, 4.900e+01, 3.430e+02, 2.401e+03],\n",
       "       [1.000e+00, 8.000e+00, 6.400e+01, 5.120e+02, 4.096e+03],\n",
       "       [1.000e+00, 9.000e+00, 8.100e+01, 7.290e+02, 6.561e+03],\n",
       "       [1.000e+00, 1.000e+01, 1.000e+02, 1.000e+03, 1.000e+04]])"
      ]
     },
     "execution_count": 54,
     "metadata": {},
     "output_type": "execute_result"
    }
   ],
   "source": [
    "#builing polynomial reg model\n",
    "#we need to pass deg of our polynomial\n",
    "polynomial_reg = PolynomialFeatures(degree=4)\n",
    "#transforming our var to fit poly model\n",
    "print(real_x)\n",
    "real_x_poly =  polynomial_reg.fit_transform(real_x)\n",
    "real_x_poly"
   ]
  },
  {
   "cell_type": "code",
   "execution_count": 55,
   "id": "7f9d8dbc",
   "metadata": {},
   "outputs": [
    {
     "data": {
      "text/plain": [
       "PolynomialFeatures(degree=4)"
      ]
     },
     "execution_count": 55,
     "metadata": {},
     "output_type": "execute_result"
    }
   ],
   "source": [
    "#fitting the model\n",
    "#build the model using polynomial regression\n",
    "polynomial_reg.fit(real_x_poly, real_y)\n"
   ]
  },
  {
   "cell_type": "code",
   "execution_count": 56,
   "id": "1fd175d1",
   "metadata": {},
   "outputs": [
    {
     "data": {
      "text/plain": [
       "LinearRegression()"
      ]
     },
     "execution_count": 56,
     "metadata": {},
     "output_type": "execute_result"
    }
   ],
   "source": [
    "#build the model using linear regression for poynomial input\n",
    "linear_reg2 = LinearRegression()\n",
    "linear_reg2.fit(real_x_poly, real_y)\n"
   ]
  },
  {
   "cell_type": "code",
   "execution_count": 57,
   "id": "f8adbd09",
   "metadata": {},
   "outputs": [
    {
     "data": {
      "image/png": "[encoded data removed]",
      "text/plain": [
       "<Figure size 432x288 with 1 Axes>"
      ]
     },
     "metadata": {
      "needs_background": "light"
     },
     "output_type": "display_data"
    }
   ],
   "source": [
    "#plotting data fro linear reg\n",
    "#plotting data points\n",
    "plt.scatter(real_x, real_y, color='red')\n",
    "#plotting for linear ref\n",
    "plt.plot(real_x, linear_reg.predict(real_x), color = 'blue')\n",
    "#putting title\n",
    "plt.title(\"linear model\")\n",
    "plt.xlabel(\"Position Level\")\n",
    "plt.ylabel(\"Salary\")\n",
    "plt.show()"
   ]
  },
  {
   "cell_type": "code",
   "execution_count": 58,
   "id": "c5ece5d1",
   "metadata": {},
   "outputs": [
    {
     "data": {
      "image/png": "[encoded data removed]",
      "text/plain": [
       "<Figure size 432x288 with 1 Axes>"
      ]
     },
     "metadata": {
      "needs_background": "light"
     },
     "output_type": "display_data"
    }
   ],
   "source": [
    "#plotting data fro polynomial reg\n",
    "#plotting data points\n",
    "plt.scatter(real_x, real_y, color='red')\n",
    "#plotting for linear ref\n",
    "plt.plot(real_x, linear_reg2.predict(polynomial_reg.fit_transform(real_x)), color = 'blue')\n",
    "#putting title\n",
    "plt.title(\"polynomial model\")\n",
    "plt.xlabel(\"Position Level\")\n",
    "plt.ylabel(\"Salary\")\n",
    "plt.show()"
   ]
  },
  {
   "cell_type": "code",
   "execution_count": 66,
   "id": "bb972e2e",
   "metadata": {},
   "outputs": [
    {
     "data": {
      "text/plain": [
       "-114454.54545454534"
      ]
     },
     "execution_count": 66,
     "metadata": {},
     "output_type": "execute_result"
    }
   ],
   "source": [
    "#doing prediction\n",
    "Y = linear_reg.predict(real_x)\n",
    "Y[0]"
   ]
  },
  {
   "cell_type": "code",
   "execution_count": 67,
   "id": "f6b820a2",
   "metadata": {},
   "outputs": [
    {
     "data": {
      "text/plain": [
       "53356.64335680549"
      ]
     },
     "execution_count": 67,
     "metadata": {},
     "output_type": "execute_result"
    }
   ],
   "source": [
    "Poly_Y = linear_reg2.predict(polynomial_reg.fit_transform(real_x))\n",
    "Poly_Y[0]\n"
   ]
  },
  {
   "cell_type": "code",
   "execution_count": null,
   "id": "4e330d7c",
   "metadata": {},
   "outputs": [],
   "source": []
  },
  {
   "cell_type": "code",
   "execution_count": null,
   "id": "b84983df",
   "metadata": {},
   "outputs": [],
   "source": []
  }
 ],
 "metadata": {
  "kernelspec": {
   "display_name": "Python 3",
   "language": "python",
   "name": "python3"
  },
  "language_info": {
   "codemirror_mode": {
    "name": "ipython",
    "version": 3
   },
   "file_extension": ".py",
   "mimetype": "text/x-python",
   "name": "python",
   "nbconvert_exporter": "python",
   "pygments_lexer": "ipython3",
   "version": "3.8.8"
  }
 },
 "nbformat": 4,
 "nbformat_minor": 5
}
