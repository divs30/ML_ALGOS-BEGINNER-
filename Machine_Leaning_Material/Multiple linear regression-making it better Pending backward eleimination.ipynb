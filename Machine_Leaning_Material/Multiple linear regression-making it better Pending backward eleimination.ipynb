{
 "cells": [
  {
   "cell_type": "code",
   "execution_count": 1,
   "id": "da7d7c7a",
   "metadata": {},
   "outputs": [],
   "source": [
    "#categorical data , data \n",
    "#which are descriptive rather than numerically informative"
   ]
  },
  {
   "cell_type": "code",
   "execution_count": 82,
   "id": "e19df4f1",
   "metadata": {},
   "outputs": [],
   "source": [
    "import numpy as np\n",
    "import pandas as pd\n",
    "import matplotlib.pyplot as plt\n",
    "#importing library for label encoding, OneHotEncoder as we \n",
    "#want data in binary format\n",
    "from sklearn.preprocessing import LabelEncoder, OneHotEncoder\n",
    "#trying stack overflow\n",
    "from sklearn.compose import ColumnTransformer\n",
    "#for splitting data set\n",
    "from sklearn.model_selection import train_test_split\n",
    "#using linear regression just imput is more tha none\n",
    "from sklearn.linear_model import LinearRegression\n",
    "\n",
    "\n",
    "#for backward elimination the below 2 imports didn't work for me\n",
    "#needed for backward elemeination\n",
    "#import statsmodels.formula.api as sm\n",
    "#import statsmodels.api as sm \n",
    "import statsmodels.regression.linear_model as sm\n",
    "#print (statsmodels.__version__)"
   ]
  },
  {
   "cell_type": "code",
   "execution_count": 60,
   "id": "8de3c07c",
   "metadata": {},
   "outputs": [],
   "source": [
    "data = pd.read_csv(r'/Users/divyashahi/OneDrive - Adobe/Machine_Leaning_Material/Startups_company.csv')"
   ]
  },
  {
   "cell_type": "code",
   "execution_count": 61,
   "id": "b8157a24",
   "metadata": {},
   "outputs": [
    {
     "data": {
      "text/html": [
       "<div>\n",
       "<style scoped>\n",
       "    .dataframe tbody tr th:only-of-type {\n",
       "        vertical-align: middle;\n",
       "    }\n",
       "\n",
       "    .dataframe tbody tr th {\n",
       "        vertical-align: top;\n",
       "    }\n",
       "\n",
       "    .dataframe thead th {\n",
       "        text-align: right;\n",
       "    }\n",
       "</style>\n",
       "<table border=\"1\" class=\"dataframe\">\n",
       "  <thead>\n",
       "    <tr style=\"text-align: right;\">\n",
       "      <th></th>\n",
       "      <th>R&amp;D Spend</th>\n",
       "      <th>Administration</th>\n",
       "      <th>Marketing Spend</th>\n",
       "      <th>State</th>\n",
       "      <th>Profit</th>\n",
       "    </tr>\n",
       "  </thead>\n",
       "  <tbody>\n",
       "    <tr>\n",
       "      <th>0</th>\n",
       "      <td>165349.20</td>\n",
       "      <td>136897.80</td>\n",
       "      <td>471784.10</td>\n",
       "      <td>New York</td>\n",
       "      <td>192261.83</td>\n",
       "    </tr>\n",
       "    <tr>\n",
       "      <th>1</th>\n",
       "      <td>162597.70</td>\n",
       "      <td>151377.59</td>\n",
       "      <td>443898.53</td>\n",
       "      <td>California</td>\n",
       "      <td>191792.06</td>\n",
       "    </tr>\n",
       "    <tr>\n",
       "      <th>2</th>\n",
       "      <td>153441.51</td>\n",
       "      <td>101145.55</td>\n",
       "      <td>407934.54</td>\n",
       "      <td>Florida</td>\n",
       "      <td>191050.39</td>\n",
       "    </tr>\n",
       "    <tr>\n",
       "      <th>3</th>\n",
       "      <td>144372.41</td>\n",
       "      <td>118671.85</td>\n",
       "      <td>383199.62</td>\n",
       "      <td>New York</td>\n",
       "      <td>182901.99</td>\n",
       "    </tr>\n",
       "    <tr>\n",
       "      <th>4</th>\n",
       "      <td>142107.34</td>\n",
       "      <td>91391.77</td>\n",
       "      <td>366168.42</td>\n",
       "      <td>Florida</td>\n",
       "      <td>166187.94</td>\n",
       "    </tr>\n",
       "    <tr>\n",
       "      <th>5</th>\n",
       "      <td>131876.90</td>\n",
       "      <td>99814.71</td>\n",
       "      <td>362861.36</td>\n",
       "      <td>New York</td>\n",
       "      <td>156991.12</td>\n",
       "    </tr>\n",
       "    <tr>\n",
       "      <th>6</th>\n",
       "      <td>134615.46</td>\n",
       "      <td>147198.87</td>\n",
       "      <td>127716.82</td>\n",
       "      <td>California</td>\n",
       "      <td>156122.51</td>\n",
       "    </tr>\n",
       "    <tr>\n",
       "      <th>7</th>\n",
       "      <td>130298.13</td>\n",
       "      <td>145530.06</td>\n",
       "      <td>323876.68</td>\n",
       "      <td>Florida</td>\n",
       "      <td>155752.60</td>\n",
       "    </tr>\n",
       "    <tr>\n",
       "      <th>8</th>\n",
       "      <td>120542.52</td>\n",
       "      <td>148718.95</td>\n",
       "      <td>311613.29</td>\n",
       "      <td>New York</td>\n",
       "      <td>152211.77</td>\n",
       "    </tr>\n",
       "    <tr>\n",
       "      <th>9</th>\n",
       "      <td>123334.88</td>\n",
       "      <td>108679.17</td>\n",
       "      <td>304981.62</td>\n",
       "      <td>California</td>\n",
       "      <td>149759.96</td>\n",
       "    </tr>\n",
       "  </tbody>\n",
       "</table>\n",
       "</div>"
      ],
      "text/plain": [
       "   R&D Spend  Administration  Marketing Spend       State     Profit\n",
       "0  165349.20       136897.80        471784.10    New York  192261.83\n",
       "1  162597.70       151377.59        443898.53  California  191792.06\n",
       "2  153441.51       101145.55        407934.54     Florida  191050.39\n",
       "3  144372.41       118671.85        383199.62    New York  182901.99\n",
       "4  142107.34        91391.77        366168.42     Florida  166187.94\n",
       "5  131876.90        99814.71        362861.36    New York  156991.12\n",
       "6  134615.46       147198.87        127716.82  California  156122.51\n",
       "7  130298.13       145530.06        323876.68     Florida  155752.60\n",
       "8  120542.52       148718.95        311613.29    New York  152211.77\n",
       "9  123334.88       108679.17        304981.62  California  149759.96"
      ]
     },
     "execution_count": 61,
     "metadata": {},
     "output_type": "execute_result"
    }
   ],
   "source": [
    "data.head(10)"
   ]
  },
  {
   "cell_type": "code",
   "execution_count": 62,
   "id": "e5a55a45",
   "metadata": {},
   "outputs": [],
   "source": [
    "#extracting data from data set\n",
    "real_X = data.iloc[:, 0:4]\n",
    "real_Y = data.iloc[:, 4]\n",
    "#real_y"
   ]
  },
  {
   "cell_type": "code",
   "execution_count": 63,
   "id": "8274095a",
   "metadata": {},
   "outputs": [],
   "source": [
    "#extracting data from data set\n",
    "real_X = data.iloc[:, 0:4].values\n",
    "real_Y = data.iloc[:, 4].values"
   ]
  },
  {
   "cell_type": "code",
   "execution_count": 64,
   "id": "6e067f6e",
   "metadata": {},
   "outputs": [],
   "source": [
    "#here we have three categorical/ or dummy variable \n",
    "#three name of city which we need to encode\n",
    "#in order to avoid multicolinearity problem"
   ]
  },
  {
   "cell_type": "code",
   "execution_count": 65,
   "id": "3aa06831",
   "metadata": {},
   "outputs": [
    {
     "data": {
      "text/plain": [
       "array([2, 0, 1, 2, 1, 2, 0, 1, 2, 0, 1, 0, 1, 0, 1, 2, 0, 2, 1, 2, 0, 2,\n",
       "       1, 1, 2, 0, 1, 2, 1, 2, 1, 2, 0, 1, 0, 2, 1, 0, 2, 0, 0, 1, 0, 2,\n",
       "       0, 2, 1, 0, 2, 0], dtype=object)"
      ]
     },
     "execution_count": 65,
     "metadata": {},
     "output_type": "execute_result"
    }
   ],
   "source": [
    "#creating an object of class labelEncoder\n",
    "le = LabelEncoder()\n",
    "#going to label encode categorical data, do changes and store in the\n",
    "#req column\n",
    "real_X[:, 3] = le.fit_transform(real_X[:, 3])\n",
    "real_X[:, 3]"
   ]
  },
  {
   "cell_type": "code",
   "execution_count": 66,
   "id": "fa9274e2",
   "metadata": {},
   "outputs": [
    {
     "data": {
      "text/plain": [
       "array([[0., 0., 0., ..., 0., 0., 1.],\n",
       "       [0., 0., 0., ..., 1., 0., 0.],\n",
       "       [0., 0., 0., ..., 0., 1., 0.],\n",
       "       ...,\n",
       "       [1., 0., 0., ..., 1., 0., 0.],\n",
       "       [0., 1., 0., ..., 0., 0., 1.],\n",
       "       [1., 0., 0., ..., 1., 0., 0.]])"
      ]
     },
     "execution_count": 66,
     "metadata": {},
     "output_type": "execute_result"
    }
   ],
   "source": [
    "#but we want data in binary format so need to use one hot encoer\n",
    "#here we need to pass argument as categorical data\n",
    "#we have three here thee name of cities\n",
    "oneHe = OneHotEncoder()\n",
    "oneHE = OneHotEncoder( categories='auto')\n",
    "#again transform\n",
    "x = real_X\n",
    "real_X = oneHE.fit_transform(real_X).toarray()\n",
    "real_X"
   ]
  },
  {
   "cell_type": "code",
   "execution_count": 67,
   "id": "4901aa90",
   "metadata": {},
   "outputs": [],
   "source": [
    "#doing arrangement for dummy variable\n",
    "#to avoid dummy variable trap we take one less variable(to take one less dummy var)\n",
    "real_X = real_X[:, 1:]"
   ]
  },
  {
   "cell_type": "code",
   "execution_count": 68,
   "id": "2283cfe9",
   "metadata": {},
   "outputs": [],
   "source": [
    "#splitting training and testing data set\n",
    "train_X, test_X, train_Y, test_Y = train_test_split(real_X, real_Y, test_size = 0.2, random_state = 0)"
   ]
  },
  {
   "cell_type": "code",
   "execution_count": 69,
   "id": "eb5376a1",
   "metadata": {},
   "outputs": [
    {
     "data": {
      "text/plain": [
       "LinearRegression()"
      ]
     },
     "execution_count": 69,
     "metadata": {},
     "output_type": "execute_result"
    }
   ],
   "source": [
    "#apply regression model\n",
    "#object variable mlr\n",
    "MLR = LinearRegression()\n",
    "#print(train_X)\n",
    "#print(train_Y)\n",
    "\n",
    "#trainngin compleete in next line\n",
    "MLR.fit(train_X, train_Y)\n"
   ]
  },
  {
   "cell_type": "code",
   "execution_count": 70,
   "id": "2e1391ea",
   "metadata": {},
   "outputs": [],
   "source": [
    "pred_Y = MLR.predict(test_X)\n",
    "#print(pred_Y)"
   ]
  },
  {
   "cell_type": "code",
   "execution_count": 71,
   "id": "cad0f47f",
   "metadata": {},
   "outputs": [
    {
     "data": {
      "text/plain": [
       "array([-16457.05797811, -14088.05088346,  -1220.01323105, -34058.44543027,\n",
       "       -19356.50306334, -11993.81479938,   7332.6841449 ,   5770.67078243,\n",
       "       -15335.51712805, -15936.18130071,  -9039.2914175 ,   8800.37872431,\n",
       "        -6298.66346245, -10309.96858177,  -3121.99657895,  17019.24698517,\n",
       "        10609.58762243,   3621.83203626,   8113.97766516, -11802.69244912,\n",
       "         4742.58135891,   3680.00091994,   6144.52122138,   5553.95948143,\n",
       "        -4798.16542887,  -1450.80400674,  -6588.74377875,   1031.36576745,\n",
       "        -6490.68217562,  19879.9695412 ,   7270.44121256,  15178.37459168,\n",
       "        12445.97488861,    165.28663593,  -6387.75362015,    339.3030397 ,\n",
       "         6832.82672083,   8918.66220527,  19279.76482973,  16432.22567649,\n",
       "        17469.25730805,  14436.50636822,  18553.07567649,      0.        ,\n",
       "        23073.46303489,      0.        ,  30442.92567649,  26193.40970156,\n",
       "        -9657.26084742, -26102.7894268 ,      0.        ,  -5209.11577651,\n",
       "            0.        ,  -5451.71371644,      0.        ,      0.        ,\n",
       "       -18148.73855771,    729.59144171,  14436.50636822,      0.        ,\n",
       "        -1721.95574844,    854.58050211,  16432.22567649,      0.        ,\n",
       "         9730.77551811,   6825.8153558 ,  -7008.41284913, -26317.03242239,\n",
       "       -42890.94148526,  -3143.59583491,  23073.46303489,  12749.14063101,\n",
       "         4701.30619192,      0.        , -17333.73500594,   1349.43952611,\n",
       "        12897.35851778,  -4932.08773253,      0.        ,  -3328.63750339,\n",
       "       -22455.2094801 ,   9332.8462189 ,  26193.40970156,   -586.46031784,\n",
       "         3593.43867652,   5761.74123437,  17469.25730805,  18553.07567649,\n",
       "         9625.20213747,  30442.92567649,      0.        ,   -437.13422311,\n",
       "        24663.63305389,   2061.05064015, -11634.56908557,  10169.57985945,\n",
       "         3279.74280562,      0.        , -35448.34349042, -17333.73500594,\n",
       "       -11634.56908557,  -4932.08773253, -42890.94148526,  -3328.63750339,\n",
       "            0.        ,  -7008.41284913,   -437.13422311,      0.        ,\n",
       "        18553.07567649,   3593.43867652,   -586.46031784,    729.59144171,\n",
       "       -18148.73855771,      0.        ,  -3143.59583491,  -5209.11577651,\n",
       "            0.        ,  -9657.26084742,   1349.43952611,  -5451.71371644,\n",
       "         3279.74280562,  -1721.95574844,      0.        ,      0.        ,\n",
       "        12897.35851778,   9332.8462189 ,  10169.57985945,   4701.30619192,\n",
       "        12749.14063101,   5761.74123437,   6825.8153558 , -26317.03242239,\n",
       "         9730.77551811,   2061.05064015,      0.        ,    854.58050211,\n",
       "        16432.22567649,   9625.20213747,  17469.25730805,      0.        ,\n",
       "        14436.50636822,      0.        ,  23073.46303489,      0.        ,\n",
       "        30442.92567649,  26193.40970156,   4060.20711338,   6941.75221869,\n",
       "        17278.52503818])"
      ]
     },
     "execution_count": 71,
     "metadata": {},
     "output_type": "execute_result"
    }
   ],
   "source": [
    "MLR.coef_"
   ]
  },
  {
   "cell_type": "code",
   "execution_count": 72,
   "id": "ab45c4b1",
   "metadata": {},
   "outputs": [
    {
     "data": {
      "text/plain": [
       "96403.07585714644"
      ]
     },
     "execution_count": 72,
     "metadata": {},
     "output_type": "execute_result"
    }
   ],
   "source": [
    "MLR.intercept_"
   ]
  },
  {
   "cell_type": "code",
   "execution_count": 73,
   "id": "e9bf1736",
   "metadata": {},
   "outputs": [
    {
     "data": {
      "text/plain": [
       "array([103282.38, 144259.4 , 146121.95,  77798.83, 191050.39, 105008.31,\n",
       "        81229.06,  97483.56, 110352.25, 166187.94])"
      ]
     },
     "execution_count": 73,
     "metadata": {},
     "output_type": "execute_result"
    }
   ],
   "source": [
    "#checking\n",
    "test_Y"
   ]
  },
  {
   "cell_type": "code",
   "execution_count": 74,
   "id": "1953b05f",
   "metadata": {},
   "outputs": [
    {
     "data": {
      "text/plain": [
       "array([108087.40943475,  94075.52935037, 103684.13111554, 109115.49885826,\n",
       "       103344.82807584, 119826.12211671,  94325.09783199, 130700.8478805 ,\n",
       "       108898.78755726, 103344.82807584])"
      ]
     },
     "execution_count": 74,
     "metadata": {},
     "output_type": "execute_result"
    }
   ],
   "source": [
    "pred_Y"
   ]
  },
  {
   "cell_type": "code",
   "execution_count": 75,
   "id": "23841bb8",
   "metadata": {},
   "outputs": [],
   "source": [
    "#this is not good way of prediction of multiple linear regression"
   ]
  },
  {
   "cell_type": "markdown",
   "id": "d395cff8",
   "metadata": {},
   "source": [
    "Backward Elimination"
   ]
  },
  {
   "cell_type": "code",
   "execution_count": 76,
   "id": "a24f4e54",
   "metadata": {},
   "outputs": [
    {
     "name": "stdout",
     "output_type": "stream",
     "text": [
      "hi\n"
     ]
    }
   ],
   "source": [
    "print(\"hi\")\n"
   ]
  },
  {
   "cell_type": "code",
   "execution_count": 77,
   "id": "def0dc4d",
   "metadata": {},
   "outputs": [],
   "source": [
    "# to perform backward elimeination we need value of key and an sl may be simple linear regression\n",
    "# and we get this via it's summary function"
   ]
  },
  {
   "cell_type": "code",
   "execution_count": 78,
   "id": "02a26f44",
   "metadata": {},
   "outputs": [
    {
     "data": {
      "text/plain": [
       "array([[1., 0., 0., ..., 0., 0., 1.],\n",
       "       [1., 0., 0., ..., 1., 0., 0.],\n",
       "       [1., 0., 0., ..., 0., 1., 0.],\n",
       "       ...,\n",
       "       [1., 0., 0., ..., 1., 0., 0.],\n",
       "       [1., 1., 0., ..., 0., 0., 1.],\n",
       "       [1., 0., 0., ..., 1., 0., 0.]])"
      ]
     },
     "execution_count": 78,
     "metadata": {},
     "output_type": "execute_result"
    }
   ],
   "source": [
    "#y = b0 + b1x1 + b2x2+ .......... + BnXn x0=1 including b0 part with xo as 1\n",
    "#stats model doesn't take care of our b0 variable\n",
    "real_X = np.append(arr=np.ones((50,1)).astype(int), values=real_X, axis = 1)\n",
    "\n",
    "real_X"
   ]
  },
  {
   "cell_type": "code",
   "execution_count": 79,
   "id": "468618db",
   "metadata": {},
   "outputs": [],
   "source": [
    "#getting all the optimization\n",
    "#creating optimization model\n",
    "x_opt = np.array(real_X[:, [0, 1,2,3,4,5]], dtype=float)"
   ]
  },
  {
   "cell_type": "code",
   "execution_count": 83,
   "id": "bda38df5",
   "metadata": {},
   "outputs": [],
   "source": [
    "#creating an ordinary least square regression model\n",
    "#import stats\n",
    "reg_OLS = sm.OLS(endog = real_Y, exog=x_opt).fit()"
   ]
  },
  {
   "cell_type": "code",
   "execution_count": 81,
   "id": "0b14285f",
   "metadata": {},
   "outputs": [
    {
     "ename": "NameError",
     "evalue": "name 'statsmodels' is not defined",
     "output_type": "error",
     "traceback": [
      "\u001b[0;31m---------------------------------------------------------------------------\u001b[0m",
      "\u001b[0;31mNameError\u001b[0m                                 Traceback (most recent call last)",
      "\u001b[0;32m<ipython-input-81-a0c96528dcd6>\u001b[0m in \u001b[0;36m<module>\u001b[0;34m\u001b[0m\n\u001b[0;32m----> 1\u001b[0;31m \u001b[0mprint\u001b[0m \u001b[0;34m(\u001b[0m\u001b[0mstatsmodels\u001b[0m\u001b[0;34m.\u001b[0m\u001b[0m__version__\u001b[0m\u001b[0;34m)\u001b[0m\u001b[0;34m\u001b[0m\u001b[0;34m\u001b[0m\u001b[0m\n\u001b[0m",
      "\u001b[0;31mNameError\u001b[0m: name 'statsmodels' is not defined"
     ]
    }
   ],
   "source": [
    "#print (statsmodels.__version__)"
   ]
  },
  {
   "cell_type": "code",
   "execution_count": 84,
   "id": "4fa02976",
   "metadata": {},
   "outputs": [
    {
     "data": {
      "text/html": [
       "<table class=\"simpletable\">\n",
       "<caption>OLS Regression Results</caption>\n",
       "<tr>\n",
       "  <th>Dep. Variable:</th>            <td>y</td>        <th>  R-squared:         </th> <td>   0.203</td>\n",
       "</tr>\n",
       "<tr>\n",
       "  <th>Model:</th>                   <td>OLS</td>       <th>  Adj. R-squared:    </th> <td>   0.113</td>\n",
       "</tr>\n",
       "<tr>\n",
       "  <th>Method:</th>             <td>Least Squares</td>  <th>  F-statistic:       </th> <td>   2.244</td>\n",
       "</tr>\n",
       "<tr>\n",
       "  <th>Date:</th>             <td>Thu, 07 Oct 2021</td> <th>  Prob (F-statistic):</th>  <td>0.0665</td> \n",
       "</tr>\n",
       "<tr>\n",
       "  <th>Time:</th>                 <td>09:30:07</td>     <th>  Log-Likelihood:    </th> <td> -594.98</td>\n",
       "</tr>\n",
       "<tr>\n",
       "  <th>No. Observations:</th>      <td>    50</td>      <th>  AIC:               </th> <td>   1202.</td>\n",
       "</tr>\n",
       "<tr>\n",
       "  <th>Df Residuals:</th>          <td>    44</td>      <th>  BIC:               </th> <td>   1213.</td>\n",
       "</tr>\n",
       "<tr>\n",
       "  <th>Df Model:</th>              <td>     5</td>      <th>                     </th>     <td> </td>   \n",
       "</tr>\n",
       "<tr>\n",
       "  <th>Covariance Type:</th>      <td>nonrobust</td>    <th>                     </th>     <td> </td>   \n",
       "</tr>\n",
       "</table>\n",
       "<table class=\"simpletable\">\n",
       "<tr>\n",
       "    <td></td>       <th>coef</th>     <th>std err</th>      <th>t</th>      <th>P>|t|</th>  <th>[0.025</th>    <th>0.975]</th>  \n",
       "</tr>\n",
       "<tr>\n",
       "  <th>const</th> <td> 1.178e+05</td> <td> 5659.867</td> <td>   20.808</td> <td> 0.000</td> <td> 1.06e+05</td> <td> 1.29e+05</td>\n",
       "</tr>\n",
       "<tr>\n",
       "  <th>x1</th>    <td>-8.209e+04</td> <td> 3.84e+04</td> <td>   -2.139</td> <td> 0.038</td> <td>-1.59e+05</td> <td>-4730.369</td>\n",
       "</tr>\n",
       "<tr>\n",
       "  <th>x2</th>    <td>-5.284e+04</td> <td> 3.84e+04</td> <td>   -1.377</td> <td> 0.176</td> <td> -1.3e+05</td> <td> 2.45e+04</td>\n",
       "</tr>\n",
       "<tr>\n",
       "  <th>x3</th>    <td>-6.828e+04</td> <td> 3.84e+04</td> <td>   -1.779</td> <td> 0.082</td> <td>-1.46e+05</td> <td> 9086.971</td>\n",
       "</tr>\n",
       "<tr>\n",
       "  <th>x4</th>    <td>-4.801e+04</td> <td> 3.84e+04</td> <td>   -1.251</td> <td> 0.218</td> <td>-1.25e+05</td> <td> 2.94e+04</td>\n",
       "</tr>\n",
       "<tr>\n",
       "  <th>x5</th>    <td>-3.654e+04</td> <td> 3.84e+04</td> <td>   -0.952</td> <td> 0.346</td> <td>-1.14e+05</td> <td> 4.08e+04</td>\n",
       "</tr>\n",
       "</table>\n",
       "<table class=\"simpletable\">\n",
       "<tr>\n",
       "  <th>Omnibus:</th>       <td> 1.590</td> <th>  Durbin-Watson:     </th> <td>   0.512</td>\n",
       "</tr>\n",
       "<tr>\n",
       "  <th>Prob(Omnibus):</th> <td> 0.452</td> <th>  Jarque-Bera (JB):  </th> <td>   0.795</td>\n",
       "</tr>\n",
       "<tr>\n",
       "  <th>Skew:</th>          <td>-0.059</td> <th>  Prob(JB):          </th> <td>   0.672</td>\n",
       "</tr>\n",
       "<tr>\n",
       "  <th>Kurtosis:</th>      <td> 3.606</td> <th>  Cond. No.          </th> <td>    7.47</td>\n",
       "</tr>\n",
       "</table><br/><br/>Notes:<br/>[1] Standard Errors assume that the covariance matrix of the errors is correctly specified."
      ],
      "text/plain": [
       "<class 'statsmodels.iolib.summary.Summary'>\n",
       "\"\"\"\n",
       "                            OLS Regression Results                            \n",
       "==============================================================================\n",
       "Dep. Variable:                      y   R-squared:                       0.203\n",
       "Model:                            OLS   Adj. R-squared:                  0.113\n",
       "Method:                 Least Squares   F-statistic:                     2.244\n",
       "Date:                Thu, 07 Oct 2021   Prob (F-statistic):             0.0665\n",
       "Time:                        09:30:07   Log-Likelihood:                -594.98\n",
       "No. Observations:                  50   AIC:                             1202.\n",
       "Df Residuals:                      44   BIC:                             1213.\n",
       "Df Model:                           5                                         \n",
       "Covariance Type:            nonrobust                                         \n",
       "==============================================================================\n",
       "                 coef    std err          t      P>|t|      [0.025      0.975]\n",
       "------------------------------------------------------------------------------\n",
       "const       1.178e+05   5659.867     20.808      0.000    1.06e+05    1.29e+05\n",
       "x1         -8.209e+04   3.84e+04     -2.139      0.038   -1.59e+05   -4730.369\n",
       "x2         -5.284e+04   3.84e+04     -1.377      0.176    -1.3e+05    2.45e+04\n",
       "x3         -6.828e+04   3.84e+04     -1.779      0.082   -1.46e+05    9086.971\n",
       "x4         -4.801e+04   3.84e+04     -1.251      0.218   -1.25e+05    2.94e+04\n",
       "x5         -3.654e+04   3.84e+04     -0.952      0.346   -1.14e+05    4.08e+04\n",
       "==============================================================================\n",
       "Omnibus:                        1.590   Durbin-Watson:                   0.512\n",
       "Prob(Omnibus):                  0.452   Jarque-Bera (JB):                0.795\n",
       "Skew:                          -0.059   Prob(JB):                        0.672\n",
       "Kurtosis:                       3.606   Cond. No.                         7.47\n",
       "==============================================================================\n",
       "\n",
       "Notes:\n",
       "[1] Standard Errors assume that the covariance matrix of the errors is correctly specified.\n",
       "\"\"\""
      ]
     },
     "execution_count": 84,
     "metadata": {},
     "output_type": "execute_result"
    }
   ],
   "source": [
    "reg_OLS.summary()"
   ]
  },
  {
   "cell_type": "code",
   "execution_count": 85,
   "id": "f8924d06",
   "metadata": {},
   "outputs": [
    {
     "data": {
      "text/html": [
       "<table class=\"simpletable\">\n",
       "<caption>OLS Regression Results</caption>\n",
       "<tr>\n",
       "  <th>Dep. Variable:</th>            <td>y</td>        <th>  R-squared:         </th> <td>   0.203</td>\n",
       "</tr>\n",
       "<tr>\n",
       "  <th>Model:</th>                   <td>OLS</td>       <th>  Adj. R-squared:    </th> <td>   0.113</td>\n",
       "</tr>\n",
       "<tr>\n",
       "  <th>Method:</th>             <td>Least Squares</td>  <th>  F-statistic:       </th> <td>   2.244</td>\n",
       "</tr>\n",
       "<tr>\n",
       "  <th>Date:</th>             <td>Thu, 07 Oct 2021</td> <th>  Prob (F-statistic):</th>  <td>0.0665</td> \n",
       "</tr>\n",
       "<tr>\n",
       "  <th>Time:</th>                 <td>09:36:13</td>     <th>  Log-Likelihood:    </th> <td> -594.98</td>\n",
       "</tr>\n",
       "<tr>\n",
       "  <th>No. Observations:</th>      <td>    50</td>      <th>  AIC:               </th> <td>   1202.</td>\n",
       "</tr>\n",
       "<tr>\n",
       "  <th>Df Residuals:</th>          <td>    44</td>      <th>  BIC:               </th> <td>   1213.</td>\n",
       "</tr>\n",
       "<tr>\n",
       "  <th>Df Model:</th>              <td>     5</td>      <th>                     </th>     <td> </td>   \n",
       "</tr>\n",
       "<tr>\n",
       "  <th>Covariance Type:</th>      <td>nonrobust</td>    <th>                     </th>     <td> </td>   \n",
       "</tr>\n",
       "</table>\n",
       "<table class=\"simpletable\">\n",
       "<tr>\n",
       "    <td></td>       <th>coef</th>     <th>std err</th>      <th>t</th>      <th>P>|t|</th>  <th>[0.025</th>    <th>0.975]</th>  \n",
       "</tr>\n",
       "<tr>\n",
       "  <th>const</th> <td> 1.178e+05</td> <td> 5659.867</td> <td>   20.808</td> <td> 0.000</td> <td> 1.06e+05</td> <td> 1.29e+05</td>\n",
       "</tr>\n",
       "<tr>\n",
       "  <th>x1</th>    <td>-8.209e+04</td> <td> 3.84e+04</td> <td>   -2.139</td> <td> 0.038</td> <td>-1.59e+05</td> <td>-4730.369</td>\n",
       "</tr>\n",
       "<tr>\n",
       "  <th>x2</th>    <td>-5.284e+04</td> <td> 3.84e+04</td> <td>   -1.377</td> <td> 0.176</td> <td> -1.3e+05</td> <td> 2.45e+04</td>\n",
       "</tr>\n",
       "<tr>\n",
       "  <th>x3</th>    <td>-6.828e+04</td> <td> 3.84e+04</td> <td>   -1.779</td> <td> 0.082</td> <td>-1.46e+05</td> <td> 9086.971</td>\n",
       "</tr>\n",
       "<tr>\n",
       "  <th>x4</th>    <td>-4.801e+04</td> <td> 3.84e+04</td> <td>   -1.251</td> <td> 0.218</td> <td>-1.25e+05</td> <td> 2.94e+04</td>\n",
       "</tr>\n",
       "<tr>\n",
       "  <th>x5</th>    <td>-3.654e+04</td> <td> 3.84e+04</td> <td>   -0.952</td> <td> 0.346</td> <td>-1.14e+05</td> <td> 4.08e+04</td>\n",
       "</tr>\n",
       "</table>\n",
       "<table class=\"simpletable\">\n",
       "<tr>\n",
       "  <th>Omnibus:</th>       <td> 1.590</td> <th>  Durbin-Watson:     </th> <td>   0.512</td>\n",
       "</tr>\n",
       "<tr>\n",
       "  <th>Prob(Omnibus):</th> <td> 0.452</td> <th>  Jarque-Bera (JB):  </th> <td>   0.795</td>\n",
       "</tr>\n",
       "<tr>\n",
       "  <th>Skew:</th>          <td>-0.059</td> <th>  Prob(JB):          </th> <td>   0.672</td>\n",
       "</tr>\n",
       "<tr>\n",
       "  <th>Kurtosis:</th>      <td> 3.606</td> <th>  Cond. No.          </th> <td>    7.47</td>\n",
       "</tr>\n",
       "</table><br/><br/>Notes:<br/>[1] Standard Errors assume that the covariance matrix of the errors is correctly specified."
      ],
      "text/plain": [
       "<class 'statsmodels.iolib.summary.Summary'>\n",
       "\"\"\"\n",
       "                            OLS Regression Results                            \n",
       "==============================================================================\n",
       "Dep. Variable:                      y   R-squared:                       0.203\n",
       "Model:                            OLS   Adj. R-squared:                  0.113\n",
       "Method:                 Least Squares   F-statistic:                     2.244\n",
       "Date:                Thu, 07 Oct 2021   Prob (F-statistic):             0.0665\n",
       "Time:                        09:36:13   Log-Likelihood:                -594.98\n",
       "No. Observations:                  50   AIC:                             1202.\n",
       "Df Residuals:                      44   BIC:                             1213.\n",
       "Df Model:                           5                                         \n",
       "Covariance Type:            nonrobust                                         \n",
       "==============================================================================\n",
       "                 coef    std err          t      P>|t|      [0.025      0.975]\n",
       "------------------------------------------------------------------------------\n",
       "const       1.178e+05   5659.867     20.808      0.000    1.06e+05    1.29e+05\n",
       "x1         -8.209e+04   3.84e+04     -2.139      0.038   -1.59e+05   -4730.369\n",
       "x2         -5.284e+04   3.84e+04     -1.377      0.176    -1.3e+05    2.45e+04\n",
       "x3         -6.828e+04   3.84e+04     -1.779      0.082   -1.46e+05    9086.971\n",
       "x4         -4.801e+04   3.84e+04     -1.251      0.218   -1.25e+05    2.94e+04\n",
       "x5         -3.654e+04   3.84e+04     -0.952      0.346   -1.14e+05    4.08e+04\n",
       "==============================================================================\n",
       "Omnibus:                        1.590   Durbin-Watson:                   0.512\n",
       "Prob(Omnibus):                  0.452   Jarque-Bera (JB):                0.795\n",
       "Skew:                          -0.059   Prob(JB):                        0.672\n",
       "Kurtosis:                       3.606   Cond. No.                         7.47\n",
       "==============================================================================\n",
       "\n",
       "Notes:\n",
       "[1] Standard Errors assume that the covariance matrix of the errors is correctly specified.\n",
       "\"\"\""
      ]
     },
     "execution_count": 85,
     "metadata": {},
     "output_type": "execute_result"
    }
   ],
   "source": [
    "#following backward elimination\n",
    "x_opt = real_X[:, [0, 1,2,3,4,5]]\n",
    "reg_OLS = sm.OLS(endog = real_Y, exog=x_opt).fit()\n",
    "reg_OLS.summary()\n",
    "#backward elemination helps us to find var on which our  result best fits the output result\n",
    "#with minimum error"
   ]
  },
  {
   "cell_type": "code",
   "execution_count": 87,
   "id": "69889e77",
   "metadata": {},
   "outputs": [
    {
     "data": {
      "text/html": [
       "<table class=\"simpletable\">\n",
       "<caption>OLS Regression Results</caption>\n",
       "<tr>\n",
       "  <th>Dep. Variable:</th>            <td>y</td>        <th>  R-squared:         </th> <td>   0.187</td>\n",
       "</tr>\n",
       "<tr>\n",
       "  <th>Model:</th>                   <td>OLS</td>       <th>  Adj. R-squared:    </th> <td>   0.115</td>\n",
       "</tr>\n",
       "<tr>\n",
       "  <th>Method:</th>             <td>Least Squares</td>  <th>  F-statistic:       </th> <td>   2.584</td>\n",
       "</tr>\n",
       "<tr>\n",
       "  <th>Date:</th>             <td>Thu, 07 Oct 2021</td> <th>  Prob (F-statistic):</th>  <td>0.0496</td> \n",
       "</tr>\n",
       "<tr>\n",
       "  <th>Time:</th>                 <td>09:37:35</td>     <th>  Log-Likelihood:    </th> <td> -595.48</td>\n",
       "</tr>\n",
       "<tr>\n",
       "  <th>No. Observations:</th>      <td>    50</td>      <th>  AIC:               </th> <td>   1201.</td>\n",
       "</tr>\n",
       "<tr>\n",
       "  <th>Df Residuals:</th>          <td>    45</td>      <th>  BIC:               </th> <td>   1211.</td>\n",
       "</tr>\n",
       "<tr>\n",
       "  <th>Df Model:</th>              <td>     4</td>      <th>                     </th>     <td> </td>   \n",
       "</tr>\n",
       "<tr>\n",
       "  <th>Covariance Type:</th>      <td>nonrobust</td>    <th>                     </th>     <td> </td>   \n",
       "</tr>\n",
       "</table>\n",
       "<table class=\"simpletable\">\n",
       "<tr>\n",
       "    <td></td>       <th>coef</th>     <th>std err</th>      <th>t</th>      <th>P>|t|</th>  <th>[0.025</th>    <th>0.975]</th>  \n",
       "</tr>\n",
       "<tr>\n",
       "  <th>const</th> <td>  1.17e+05</td> <td> 5592.160</td> <td>   20.917</td> <td> 0.000</td> <td> 1.06e+05</td> <td> 1.28e+05</td>\n",
       "</tr>\n",
       "<tr>\n",
       "  <th>x1</th>    <td> -8.13e+04</td> <td> 3.83e+04</td> <td>   -2.121</td> <td> 0.039</td> <td>-1.59e+05</td> <td>-4083.603</td>\n",
       "</tr>\n",
       "<tr>\n",
       "  <th>x2</th>    <td>-5.205e+04</td> <td> 3.83e+04</td> <td>   -1.358</td> <td> 0.181</td> <td>-1.29e+05</td> <td> 2.52e+04</td>\n",
       "</tr>\n",
       "<tr>\n",
       "  <th>x3</th>    <td>-6.748e+04</td> <td> 3.83e+04</td> <td>   -1.760</td> <td> 0.085</td> <td>-1.45e+05</td> <td> 9733.737</td>\n",
       "</tr>\n",
       "<tr>\n",
       "  <th>x4</th>    <td>-4.721e+04</td> <td> 3.83e+04</td> <td>   -1.232</td> <td> 0.225</td> <td>-1.24e+05</td> <td>    3e+04</td>\n",
       "</tr>\n",
       "</table>\n",
       "<table class=\"simpletable\">\n",
       "<tr>\n",
       "  <th>Omnibus:</th>       <td> 1.208</td> <th>  Durbin-Watson:     </th> <td>   0.460</td>\n",
       "</tr>\n",
       "<tr>\n",
       "  <th>Prob(Omnibus):</th> <td> 0.547</td> <th>  Jarque-Bera (JB):  </th> <td>   0.481</td>\n",
       "</tr>\n",
       "<tr>\n",
       "  <th>Skew:</th>          <td>-0.012</td> <th>  Prob(JB):          </th> <td>   0.786</td>\n",
       "</tr>\n",
       "<tr>\n",
       "  <th>Kurtosis:</th>      <td> 3.480</td> <th>  Cond. No.          </th> <td>    7.38</td>\n",
       "</tr>\n",
       "</table><br/><br/>Notes:<br/>[1] Standard Errors assume that the covariance matrix of the errors is correctly specified."
      ],
      "text/plain": [
       "<class 'statsmodels.iolib.summary.Summary'>\n",
       "\"\"\"\n",
       "                            OLS Regression Results                            \n",
       "==============================================================================\n",
       "Dep. Variable:                      y   R-squared:                       0.187\n",
       "Model:                            OLS   Adj. R-squared:                  0.115\n",
       "Method:                 Least Squares   F-statistic:                     2.584\n",
       "Date:                Thu, 07 Oct 2021   Prob (F-statistic):             0.0496\n",
       "Time:                        09:37:35   Log-Likelihood:                -595.48\n",
       "No. Observations:                  50   AIC:                             1201.\n",
       "Df Residuals:                      45   BIC:                             1211.\n",
       "Df Model:                           4                                         \n",
       "Covariance Type:            nonrobust                                         \n",
       "==============================================================================\n",
       "                 coef    std err          t      P>|t|      [0.025      0.975]\n",
       "------------------------------------------------------------------------------\n",
       "const        1.17e+05   5592.160     20.917      0.000    1.06e+05    1.28e+05\n",
       "x1          -8.13e+04   3.83e+04     -2.121      0.039   -1.59e+05   -4083.603\n",
       "x2         -5.205e+04   3.83e+04     -1.358      0.181   -1.29e+05    2.52e+04\n",
       "x3         -6.748e+04   3.83e+04     -1.760      0.085   -1.45e+05    9733.737\n",
       "x4         -4.721e+04   3.83e+04     -1.232      0.225   -1.24e+05       3e+04\n",
       "==============================================================================\n",
       "Omnibus:                        1.208   Durbin-Watson:                   0.460\n",
       "Prob(Omnibus):                  0.547   Jarque-Bera (JB):                0.481\n",
       "Skew:                          -0.012   Prob(JB):                        0.786\n",
       "Kurtosis:                       3.480   Cond. No.                         7.38\n",
       "==============================================================================\n",
       "\n",
       "Notes:\n",
       "[1] Standard Errors assume that the covariance matrix of the errors is correctly specified.\n",
       "\"\"\""
      ]
     },
     "execution_count": 87,
     "metadata": {},
     "output_type": "execute_result"
    }
   ],
   "source": [
    "#following backward elimination\n",
    "x_opt = real_X[:, [0, 1,2,3,4]]\n",
    "reg_OLS = sm.OLS(endog = real_Y, exog=x_opt).fit()\n",
    "reg_OLS.summary()"
   ]
  },
  {
   "cell_type": "code",
   "execution_count": 88,
   "id": "69347994",
   "metadata": {},
   "outputs": [
    {
     "data": {
      "text/html": [
       "<table class=\"simpletable\">\n",
       "<caption>OLS Regression Results</caption>\n",
       "<tr>\n",
       "  <th>Dep. Variable:</th>            <td>y</td>        <th>  R-squared:         </th> <td>   0.159</td>\n",
       "</tr>\n",
       "<tr>\n",
       "  <th>Model:</th>                   <td>OLS</td>       <th>  Adj. R-squared:    </th> <td>   0.105</td>\n",
       "</tr>\n",
       "<tr>\n",
       "  <th>Method:</th>             <td>Least Squares</td>  <th>  F-statistic:       </th> <td>   2.908</td>\n",
       "</tr>\n",
       "<tr>\n",
       "  <th>Date:</th>             <td>Thu, 07 Oct 2021</td> <th>  Prob (F-statistic):</th>  <td>0.0445</td> \n",
       "</tr>\n",
       "<tr>\n",
       "  <th>Time:</th>                 <td>09:37:49</td>     <th>  Log-Likelihood:    </th> <td> -596.31</td>\n",
       "</tr>\n",
       "<tr>\n",
       "  <th>No. Observations:</th>      <td>    50</td>      <th>  AIC:               </th> <td>   1201.</td>\n",
       "</tr>\n",
       "<tr>\n",
       "  <th>Df Residuals:</th>          <td>    46</td>      <th>  BIC:               </th> <td>   1208.</td>\n",
       "</tr>\n",
       "<tr>\n",
       "  <th>Df Model:</th>              <td>     3</td>      <th>                     </th>     <td> </td>   \n",
       "</tr>\n",
       "<tr>\n",
       "  <th>Covariance Type:</th>      <td>nonrobust</td>    <th>                     </th>     <td> </td>   \n",
       "</tr>\n",
       "</table>\n",
       "<table class=\"simpletable\">\n",
       "<tr>\n",
       "    <td></td>       <th>coef</th>     <th>std err</th>      <th>t</th>      <th>P>|t|</th>  <th>[0.025</th>    <th>0.975]</th>  \n",
       "</tr>\n",
       "<tr>\n",
       "  <th>const</th> <td>  1.16e+05</td> <td> 5563.332</td> <td>   20.845</td> <td> 0.000</td> <td> 1.05e+05</td> <td> 1.27e+05</td>\n",
       "</tr>\n",
       "<tr>\n",
       "  <th>x1</th>    <td> -8.03e+04</td> <td> 3.85e+04</td> <td>   -2.083</td> <td> 0.043</td> <td>-1.58e+05</td> <td>-2710.722</td>\n",
       "</tr>\n",
       "<tr>\n",
       "  <th>x2</th>    <td>-5.104e+04</td> <td> 3.85e+04</td> <td>   -1.324</td> <td> 0.192</td> <td>-1.29e+05</td> <td> 2.65e+04</td>\n",
       "</tr>\n",
       "<tr>\n",
       "  <th>x3</th>    <td>-6.648e+04</td> <td> 3.85e+04</td> <td>   -1.725</td> <td> 0.091</td> <td>-1.44e+05</td> <td> 1.11e+04</td>\n",
       "</tr>\n",
       "</table>\n",
       "<table class=\"simpletable\">\n",
       "<tr>\n",
       "  <th>Omnibus:</th>       <td> 0.787</td> <th>  Durbin-Watson:     </th> <td>   0.365</td>\n",
       "</tr>\n",
       "<tr>\n",
       "  <th>Prob(Omnibus):</th> <td> 0.675</td> <th>  Jarque-Bera (JB):  </th> <td>   0.207</td>\n",
       "</tr>\n",
       "<tr>\n",
       "  <th>Skew:</th>          <td> 0.028</td> <th>  Prob(JB):          </th> <td>   0.902</td>\n",
       "</tr>\n",
       "<tr>\n",
       "  <th>Kurtosis:</th>      <td> 3.310</td> <th>  Cond. No.          </th> <td>    7.30</td>\n",
       "</tr>\n",
       "</table><br/><br/>Notes:<br/>[1] Standard Errors assume that the covariance matrix of the errors is correctly specified."
      ],
      "text/plain": [
       "<class 'statsmodels.iolib.summary.Summary'>\n",
       "\"\"\"\n",
       "                            OLS Regression Results                            \n",
       "==============================================================================\n",
       "Dep. Variable:                      y   R-squared:                       0.159\n",
       "Model:                            OLS   Adj. R-squared:                  0.105\n",
       "Method:                 Least Squares   F-statistic:                     2.908\n",
       "Date:                Thu, 07 Oct 2021   Prob (F-statistic):             0.0445\n",
       "Time:                        09:37:49   Log-Likelihood:                -596.31\n",
       "No. Observations:                  50   AIC:                             1201.\n",
       "Df Residuals:                      46   BIC:                             1208.\n",
       "Df Model:                           3                                         \n",
       "Covariance Type:            nonrobust                                         \n",
       "==============================================================================\n",
       "                 coef    std err          t      P>|t|      [0.025      0.975]\n",
       "------------------------------------------------------------------------------\n",
       "const        1.16e+05   5563.332     20.845      0.000    1.05e+05    1.27e+05\n",
       "x1          -8.03e+04   3.85e+04     -2.083      0.043   -1.58e+05   -2710.722\n",
       "x2         -5.104e+04   3.85e+04     -1.324      0.192   -1.29e+05    2.65e+04\n",
       "x3         -6.648e+04   3.85e+04     -1.725      0.091   -1.44e+05    1.11e+04\n",
       "==============================================================================\n",
       "Omnibus:                        0.787   Durbin-Watson:                   0.365\n",
       "Prob(Omnibus):                  0.675   Jarque-Bera (JB):                0.207\n",
       "Skew:                           0.028   Prob(JB):                        0.902\n",
       "Kurtosis:                       3.310   Cond. No.                         7.30\n",
       "==============================================================================\n",
       "\n",
       "Notes:\n",
       "[1] Standard Errors assume that the covariance matrix of the errors is correctly specified.\n",
       "\"\"\""
      ]
     },
     "execution_count": 88,
     "metadata": {},
     "output_type": "execute_result"
    }
   ],
   "source": [
    "#following backward elimination\n",
    "x_opt = real_X[:, [0, 1,2,3]]\n",
    "reg_OLS = sm.OLS(endog = real_Y, exog=x_opt).fit()\n",
    "reg_OLS.summary()"
   ]
  },
  {
   "cell_type": "code",
   "execution_count": 90,
   "id": "659f1096",
   "metadata": {},
   "outputs": [
    {
     "data": {
      "text/html": [
       "<table class=\"simpletable\">\n",
       "<caption>OLS Regression Results</caption>\n",
       "<tr>\n",
       "  <th>Dep. Variable:</th>            <td>y</td>        <th>  R-squared:         </th> <td>   0.127</td>\n",
       "</tr>\n",
       "<tr>\n",
       "  <th>Model:</th>                   <td>OLS</td>       <th>  Adj. R-squared:    </th> <td>   0.090</td>\n",
       "</tr>\n",
       "<tr>\n",
       "  <th>Method:</th>             <td>Least Squares</td>  <th>  F-statistic:       </th> <td>   3.430</td>\n",
       "</tr>\n",
       "<tr>\n",
       "  <th>Date:</th>             <td>Thu, 07 Oct 2021</td> <th>  Prob (F-statistic):</th>  <td>0.0407</td> \n",
       "</tr>\n",
       "<tr>\n",
       "  <th>Time:</th>                 <td>09:38:23</td>     <th>  Log-Likelihood:    </th> <td> -597.25</td>\n",
       "</tr>\n",
       "<tr>\n",
       "  <th>No. Observations:</th>      <td>    50</td>      <th>  AIC:               </th> <td>   1200.</td>\n",
       "</tr>\n",
       "<tr>\n",
       "  <th>Df Residuals:</th>          <td>    47</td>      <th>  BIC:               </th> <td>   1206.</td>\n",
       "</tr>\n",
       "<tr>\n",
       "  <th>Df Model:</th>              <td>     2</td>      <th>                     </th>     <td> </td>   \n",
       "</tr>\n",
       "<tr>\n",
       "  <th>Covariance Type:</th>      <td>nonrobust</td>    <th>                     </th>     <td> </td>   \n",
       "</tr>\n",
       "</table>\n",
       "<table class=\"simpletable\">\n",
       "<tr>\n",
       "    <td></td>       <th>coef</th>     <th>std err</th>      <th>t</th>      <th>P>|t|</th>  <th>[0.025</th>    <th>0.975]</th>  \n",
       "</tr>\n",
       "<tr>\n",
       "  <th>const</th> <td> 1.149e+05</td> <td> 5549.041</td> <td>   20.707</td> <td> 0.000</td> <td> 1.04e+05</td> <td> 1.26e+05</td>\n",
       "</tr>\n",
       "<tr>\n",
       "  <th>x1</th>    <td>-7.923e+04</td> <td> 3.88e+04</td> <td>   -2.040</td> <td> 0.047</td> <td>-1.57e+05</td> <td>-1089.548</td>\n",
       "</tr>\n",
       "<tr>\n",
       "  <th>x2</th>    <td>-6.541e+04</td> <td> 3.88e+04</td> <td>   -1.684</td> <td> 0.099</td> <td>-1.44e+05</td> <td> 1.27e+04</td>\n",
       "</tr>\n",
       "</table>\n",
       "<table class=\"simpletable\">\n",
       "<tr>\n",
       "  <th>Omnibus:</th>       <td> 0.458</td> <th>  Durbin-Watson:     </th> <td>   0.343</td>\n",
       "</tr>\n",
       "<tr>\n",
       "  <th>Prob(Omnibus):</th> <td> 0.796</td> <th>  Jarque-Bera (JB):  </th> <td>   0.074</td>\n",
       "</tr>\n",
       "<tr>\n",
       "  <th>Skew:</th>          <td> 0.061</td> <th>  Prob(JB):          </th> <td>   0.964</td>\n",
       "</tr>\n",
       "<tr>\n",
       "  <th>Kurtosis:</th>      <td> 3.144</td> <th>  Cond. No.          </th> <td>    7.22</td>\n",
       "</tr>\n",
       "</table><br/><br/>Notes:<br/>[1] Standard Errors assume that the covariance matrix of the errors is correctly specified."
      ],
      "text/plain": [
       "<class 'statsmodels.iolib.summary.Summary'>\n",
       "\"\"\"\n",
       "                            OLS Regression Results                            \n",
       "==============================================================================\n",
       "Dep. Variable:                      y   R-squared:                       0.127\n",
       "Model:                            OLS   Adj. R-squared:                  0.090\n",
       "Method:                 Least Squares   F-statistic:                     3.430\n",
       "Date:                Thu, 07 Oct 2021   Prob (F-statistic):             0.0407\n",
       "Time:                        09:38:23   Log-Likelihood:                -597.25\n",
       "No. Observations:                  50   AIC:                             1200.\n",
       "Df Residuals:                      47   BIC:                             1206.\n",
       "Df Model:                           2                                         \n",
       "Covariance Type:            nonrobust                                         \n",
       "==============================================================================\n",
       "                 coef    std err          t      P>|t|      [0.025      0.975]\n",
       "------------------------------------------------------------------------------\n",
       "const       1.149e+05   5549.041     20.707      0.000    1.04e+05    1.26e+05\n",
       "x1         -7.923e+04   3.88e+04     -2.040      0.047   -1.57e+05   -1089.548\n",
       "x2         -6.541e+04   3.88e+04     -1.684      0.099   -1.44e+05    1.27e+04\n",
       "==============================================================================\n",
       "Omnibus:                        0.458   Durbin-Watson:                   0.343\n",
       "Prob(Omnibus):                  0.796   Jarque-Bera (JB):                0.074\n",
       "Skew:                           0.061   Prob(JB):                        0.964\n",
       "Kurtosis:                       3.144   Cond. No.                         7.22\n",
       "==============================================================================\n",
       "\n",
       "Notes:\n",
       "[1] Standard Errors assume that the covariance matrix of the errors is correctly specified.\n",
       "\"\"\""
      ]
     },
     "execution_count": 90,
     "metadata": {},
     "output_type": "execute_result"
    }
   ],
   "source": [
    "#following backward elimination\n",
    "x_opt = real_X[:, [0, 1,3]]\n",
    "reg_OLS = sm.OLS(endog = real_Y, exog=x_opt).fit()\n",
    "reg_OLS.summary()"
   ]
  },
  {
   "cell_type": "code",
   "execution_count": 91,
   "id": "19779a11",
   "metadata": {},
   "outputs": [
    {
     "data": {
      "text/html": [
       "<table class=\"simpletable\">\n",
       "<caption>OLS Regression Results</caption>\n",
       "<tr>\n",
       "  <th>Dep. Variable:</th>            <td>y</td>        <th>  R-squared:         </th> <td>   0.075</td>\n",
       "</tr>\n",
       "<tr>\n",
       "  <th>Model:</th>                   <td>OLS</td>       <th>  Adj. R-squared:    </th> <td>   0.055</td>\n",
       "</tr>\n",
       "<tr>\n",
       "  <th>Method:</th>             <td>Least Squares</td>  <th>  F-statistic:       </th> <td>   3.875</td>\n",
       "</tr>\n",
       "<tr>\n",
       "  <th>Date:</th>             <td>Thu, 07 Oct 2021</td> <th>  Prob (F-statistic):</th>  <td>0.0548</td> \n",
       "</tr>\n",
       "<tr>\n",
       "  <th>Time:</th>                 <td>09:38:40</td>     <th>  Log-Likelihood:    </th> <td> -598.71</td>\n",
       "</tr>\n",
       "<tr>\n",
       "  <th>No. Observations:</th>      <td>    50</td>      <th>  AIC:               </th> <td>   1201.</td>\n",
       "</tr>\n",
       "<tr>\n",
       "  <th>Df Residuals:</th>          <td>    48</td>      <th>  BIC:               </th> <td>   1205.</td>\n",
       "</tr>\n",
       "<tr>\n",
       "  <th>Df Model:</th>              <td>     1</td>      <th>                     </th>     <td> </td>   \n",
       "</tr>\n",
       "<tr>\n",
       "  <th>Covariance Type:</th>      <td>nonrobust</td>    <th>                     </th>     <td> </td>   \n",
       "</tr>\n",
       "</table>\n",
       "<table class=\"simpletable\">\n",
       "<tr>\n",
       "    <td></td>       <th>coef</th>     <th>std err</th>      <th>t</th>      <th>P>|t|</th>  <th>[0.025</th>    <th>0.975]</th>  \n",
       "</tr>\n",
       "<tr>\n",
       "  <th>const</th> <td> 1.136e+05</td> <td> 5596.183</td> <td>   20.294</td> <td> 0.000</td> <td> 1.02e+05</td> <td> 1.25e+05</td>\n",
       "</tr>\n",
       "<tr>\n",
       "  <th>x1</th>    <td> -7.79e+04</td> <td> 3.96e+04</td> <td>   -1.969</td> <td> 0.055</td> <td>-1.57e+05</td> <td> 1665.637</td>\n",
       "</tr>\n",
       "</table>\n",
       "<table class=\"simpletable\">\n",
       "<tr>\n",
       "  <th>Omnibus:</th>       <td> 0.172</td> <th>  Durbin-Watson:     </th> <td>   0.216</td>\n",
       "</tr>\n",
       "<tr>\n",
       "  <th>Prob(Omnibus):</th> <td> 0.918</td> <th>  Jarque-Bera (JB):  </th> <td>   0.033</td>\n",
       "</tr>\n",
       "<tr>\n",
       "  <th>Skew:</th>          <td> 0.061</td> <th>  Prob(JB):          </th> <td>   0.984</td>\n",
       "</tr>\n",
       "<tr>\n",
       "  <th>Kurtosis:</th>      <td> 2.966</td> <th>  Cond. No.          </th> <td>    7.15</td>\n",
       "</tr>\n",
       "</table><br/><br/>Notes:<br/>[1] Standard Errors assume that the covariance matrix of the errors is correctly specified."
      ],
      "text/plain": [
       "<class 'statsmodels.iolib.summary.Summary'>\n",
       "\"\"\"\n",
       "                            OLS Regression Results                            \n",
       "==============================================================================\n",
       "Dep. Variable:                      y   R-squared:                       0.075\n",
       "Model:                            OLS   Adj. R-squared:                  0.055\n",
       "Method:                 Least Squares   F-statistic:                     3.875\n",
       "Date:                Thu, 07 Oct 2021   Prob (F-statistic):             0.0548\n",
       "Time:                        09:38:40   Log-Likelihood:                -598.71\n",
       "No. Observations:                  50   AIC:                             1201.\n",
       "Df Residuals:                      48   BIC:                             1205.\n",
       "Df Model:                           1                                         \n",
       "Covariance Type:            nonrobust                                         \n",
       "==============================================================================\n",
       "                 coef    std err          t      P>|t|      [0.025      0.975]\n",
       "------------------------------------------------------------------------------\n",
       "const       1.136e+05   5596.183     20.294      0.000    1.02e+05    1.25e+05\n",
       "x1          -7.79e+04   3.96e+04     -1.969      0.055   -1.57e+05    1665.637\n",
       "==============================================================================\n",
       "Omnibus:                        0.172   Durbin-Watson:                   0.216\n",
       "Prob(Omnibus):                  0.918   Jarque-Bera (JB):                0.033\n",
       "Skew:                           0.061   Prob(JB):                        0.984\n",
       "Kurtosis:                       2.966   Cond. No.                         7.15\n",
       "==============================================================================\n",
       "\n",
       "Notes:\n",
       "[1] Standard Errors assume that the covariance matrix of the errors is correctly specified.\n",
       "\"\"\""
      ]
     },
     "execution_count": 91,
     "metadata": {},
     "output_type": "execute_result"
    }
   ],
   "source": [
    "#following backward elimination\n",
    "x_opt = real_X[:, [0, 1]]\n",
    "reg_OLS = sm.OLS(endog = real_Y, exog=x_opt).fit()\n",
    "reg_OLS.summary()"
   ]
  },
  {
   "cell_type": "code",
   "execution_count": null,
   "id": "cb1e18ba",
   "metadata": {},
   "outputs": [],
   "source": [
    "#now from here ownward the way is same as linear regression\n",
    "#we get optimised result if we take 0 th and 1st variable"
   ]
  }
 ],
 "metadata": {
  "kernelspec": {
   "display_name": "Python 3",
   "language": "python",
   "name": "python3"
  },
  "language_info": {
   "codemirror_mode": {
    "name": "ipython",
    "version": 3
   },
   "file_extension": ".py",
   "mimetype": "text/x-python",
   "name": "python",
   "nbconvert_exporter": "python",
   "pygments_lexer": "ipython3",
   "version": "3.8.8"
  }
 },
 "nbformat": 4,
 "nbformat_minor": 5
}
