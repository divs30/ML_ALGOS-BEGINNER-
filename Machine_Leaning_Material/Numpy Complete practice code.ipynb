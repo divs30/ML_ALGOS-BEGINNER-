{
 "cells": [
  {
   "cell_type": "markdown",
   "id": "316f7517",
   "metadata": {},
   "source": [
    "First notebook for numpy\n"
   ]
  },
  {
   "cell_type": "code",
   "execution_count": 1,
   "id": "c54b78ad",
   "metadata": {},
   "outputs": [
    {
     "name": "stdout",
     "output_type": "stream",
     "text": [
      "numpy pratice\n"
     ]
    }
   ],
   "source": [
    "print(\"numpy pratice\")"
   ]
  },
  {
   "cell_type": "markdown",
   "id": "a031c08e",
   "metadata": {},
   "source": [
    "Import numpy if you get error do pip install numpy from terminal"
   ]
  },
  {
   "cell_type": "code",
   "execution_count": 2,
   "id": "af73fb6c",
   "metadata": {},
   "outputs": [],
   "source": [
    "import numpy as np"
   ]
  },
  {
   "cell_type": "markdown",
   "id": "2c9c5525",
   "metadata": {},
   "source": [
    "Basic numpy array"
   ]
  },
  {
   "cell_type": "code",
   "execution_count": 5,
   "id": "965328f5",
   "metadata": {},
   "outputs": [
    {
     "name": "stdout",
     "output_type": "stream",
     "text": [
      "[1 2 3]\n"
     ]
    }
   ],
   "source": [
    "a = np.array([1,2,3])\n",
    "print(a)"
   ]
  },
  {
   "cell_type": "code",
   "execution_count": 7,
   "id": "906d534e",
   "metadata": {},
   "outputs": [
    {
     "name": "stdout",
     "output_type": "stream",
     "text": [
      "[[2.  7.4]\n",
      " [1.4 4.6]]\n"
     ]
    }
   ],
   "source": [
    "b = np.array([[2.0,7.4],[1.4, 4.6]])\n",
    "print(b)"
   ]
  },
  {
   "cell_type": "code",
   "execution_count": 25,
   "id": "df9f0e8d",
   "metadata": {},
   "outputs": [
    {
     "name": "stdout",
     "output_type": "stream",
     "text": [
      "[ 1  4 78 90]\n"
     ]
    }
   ],
   "source": [
    "#declaring dtype explicitly in array\n",
    "c = np.array([1,4,78,90], dtype='int16')\n",
    "print(c)"
   ]
  },
  {
   "cell_type": "code",
   "execution_count": 14,
   "id": "aad7095a",
   "metadata": {},
   "outputs": [
    {
     "name": "stdout",
     "output_type": "stream",
     "text": [
      "dimension of a \n",
      "1\n",
      "2\n"
     ]
    }
   ],
   "source": [
    "#getting dimension of array\n",
    "print(\"dimension of a \")\n",
    "print(a.ndim)\n",
    "\n",
    "k = b.ndim\n",
    "# print(\"dimension of b\"+k) can only concatenate str (not \"int\") to str\n",
    "print(k)"
   ]
  },
  {
   "cell_type": "code",
   "execution_count": 21,
   "id": "1c14be95",
   "metadata": {},
   "outputs": [
    {
     "name": "stdout",
     "output_type": "stream",
     "text": [
      "(3,)\n",
      "(2, 2)\n"
     ]
    }
   ],
   "source": [
    "#getting shape of array \n",
    "#print(kc) name 'kc' is not defined\n",
    "kc = a.shape\n",
    "print(kc)\n",
    "print(b.shape)"
   ]
  },
  {
   "cell_type": "code",
   "execution_count": 27,
   "id": "e9723e2e",
   "metadata": {},
   "outputs": [
    {
     "name": "stdout",
     "output_type": "stream",
     "text": [
      "int64\n",
      "float64\n",
      "int16\n"
     ]
    }
   ],
   "source": [
    "#get the type of array\n",
    "print(a.dtype)\n",
    "print(b.dtype)\n",
    "print(c.dtype)"
   ]
  },
  {
   "cell_type": "code",
   "execution_count": 28,
   "id": "65a6f6ba",
   "metadata": {},
   "outputs": [
    {
     "name": "stdout",
     "output_type": "stream",
     "text": [
      "8\n",
      "3\n",
      "24\n",
      "24\n"
     ]
    }
   ],
   "source": [
    "#getting size of item\n",
    "print(a.itemsize)\n",
    "#getting number of elements\n",
    "print(a.size)\n",
    "#getting total number of elements\n",
    "print(a.size*a.itemsize)\n",
    "#getting total number of items in the list\n",
    "print(a.nbytes)"
   ]
  },
  {
   "cell_type": "markdown",
   "id": "75781ff7",
   "metadata": {},
   "source": [
    "changing , getting specific rows , columns etx"
   ]
  },
  {
   "cell_type": "code",
   "execution_count": 30,
   "id": "e61d8b8c",
   "metadata": {},
   "outputs": [
    {
     "name": "stdout",
     "output_type": "stream",
     "text": [
      "[[ 1  2  3  4  5]\n",
      " [ 6  7  8  9 10]]\n",
      "6\n"
     ]
    }
   ],
   "source": [
    "#printing array\n",
    "z = np.array([[1,2,3,4,5], [6,7,8,9,10]])\n",
    "print(z)\n",
    "print(z[1][0])"
   ]
  },
  {
   "cell_type": "code",
   "execution_count": 32,
   "id": "2c1d470c",
   "metadata": {},
   "outputs": [
    {
     "name": "stdout",
     "output_type": "stream",
     "text": [
      "10\n"
     ]
    }
   ],
   "source": [
    "print(z[1,4])"
   ]
  },
  {
   "cell_type": "code",
   "execution_count": 33,
   "id": "7e4a4a26",
   "metadata": {},
   "outputs": [
    {
     "name": "stdout",
     "output_type": "stream",
     "text": [
      "10\n"
     ]
    }
   ],
   "source": [
    "#printing via using negative index\n",
    "print(z[1,-1])"
   ]
  },
  {
   "cell_type": "code",
   "execution_count": 35,
   "id": "699b5f45",
   "metadata": {},
   "outputs": [
    {
     "name": "stdout",
     "output_type": "stream",
     "text": [
      "[3 8]\n"
     ]
    }
   ],
   "source": [
    "#printing column 2\n",
    "print(z[:,2])"
   ]
  },
  {
   "cell_type": "code",
   "execution_count": 38,
   "id": "5797695a",
   "metadata": {},
   "outputs": [
    {
     "name": "stdout",
     "output_type": "stream",
     "text": [
      "[[ 1  2  3  4  5]\n",
      " [ 6  7  8  9 10]]\n",
      "[[ 1  2  3  4  5]\n",
      " [ 6  7  8  9 10]]\n"
     ]
    }
   ],
   "source": [
    "#printing whole column\n",
    "print(z[0:,])\n",
    "\n",
    "print(z[0:,])"
   ]
  },
  {
   "cell_type": "code",
   "execution_count": 39,
   "id": "3baca2a3",
   "metadata": {},
   "outputs": [
    {
     "name": "stdout",
     "output_type": "stream",
     "text": [
      "[1 2 3 4 5]\n"
     ]
    }
   ],
   "source": [
    "#printing one row\n",
    "print(z[0,:])"
   ]
  },
  {
   "cell_type": "code",
   "execution_count": 42,
   "id": "86f695ee",
   "metadata": {},
   "outputs": [
    {
     "name": "stdout",
     "output_type": "stream",
     "text": [
      "[2 4]\n"
     ]
    }
   ],
   "source": [
    "#printing first 0 rows, element from 1 to 5 index with step size 2\n",
    "#print(z[0:, 1:5, 2]) IndexError: too many indices for array: array is 2-dimensional, but 3 were indexed\n",
    "#print(z[0, 1:5, 2]) too many indices for array: array is 2-dimensional, but 3 were indexed\n",
    "print(z[0, 1:5: 2]) "
   ]
  },
  {
   "cell_type": "code",
   "execution_count": 43,
   "id": "7b29b183",
   "metadata": {},
   "outputs": [
    {
     "name": "stdout",
     "output_type": "stream",
     "text": [
      "[[1 2 3 4 5]\n",
      " [6 7 8 9 0]]\n"
     ]
    }
   ],
   "source": [
    "#changing a particular element\n",
    "z[1,4] = 0\n",
    "print(z)"
   ]
  },
  {
   "cell_type": "code",
   "execution_count": 45,
   "id": "85dd9281",
   "metadata": {},
   "outputs": [
    {
     "name": "stdout",
     "output_type": "stream",
     "text": [
      "[[ 1  2  3  4 10]\n",
      " [ 6  7  8  9 10]]\n"
     ]
    }
   ],
   "source": [
    "#changing one entire column\n",
    "z[:,4] = 10\n",
    "print(z)"
   ]
  },
  {
   "cell_type": "code",
   "execution_count": 47,
   "id": "d8031f8b",
   "metadata": {},
   "outputs": [
    {
     "name": "stdout",
     "output_type": "stream",
     "text": [
      "[[ 1  2  3  4 12]\n",
      " [ 6  7  8  9 13]]\n"
     ]
    }
   ],
   "source": [
    "#changin entire column with different values\n",
    "z[:,4] = [12,13]\n",
    "print(z)"
   ]
  },
  {
   "cell_type": "code",
   "execution_count": 48,
   "id": "b63c79bd",
   "metadata": {},
   "outputs": [
    {
     "name": "stdout",
     "output_type": "stream",
     "text": [
      "[[11 11 11 11 11]\n",
      " [ 6  7  8  9 13]]\n"
     ]
    }
   ],
   "source": [
    "#changig entire row\n",
    "z[0, :] = 11\n",
    "print(z)"
   ]
  },
  {
   "cell_type": "code",
   "execution_count": 51,
   "id": "24837376",
   "metadata": {},
   "outputs": [
    {
     "name": "stdout",
     "output_type": "stream",
     "text": [
      "[[11 11 20 20 20]\n",
      " [ 6  7  8  9 13]]\n",
      "[[11 11 30 30 20]\n",
      " [ 6  7  8  9 13]]\n"
     ]
    }
   ],
   "source": [
    "#changing some rows with specific elements\n",
    "z[0, 2:5] = 20\n",
    "print(z)\n",
    "z[0, 2:4] = 30\n",
    "print(z)"
   ]
  },
  {
   "cell_type": "code",
   "execution_count": 52,
   "id": "8617f385",
   "metadata": {},
   "outputs": [
    {
     "name": "stdout",
     "output_type": "stream",
     "text": [
      "[[[1 2]\n",
      "  [3 4]]\n",
      "\n",
      " [[5 6]\n",
      "  [7 8]]]\n"
     ]
    }
   ],
   "source": [
    "#accessing elements in 3d vector\n",
    "l = np.array([[[1,2], [3,4]], [[5,6], [7,8]]])\n",
    "print(l)"
   ]
  },
  {
   "cell_type": "code",
   "execution_count": 53,
   "id": "9519d6ed",
   "metadata": {},
   "outputs": [
    {
     "name": "stdout",
     "output_type": "stream",
     "text": [
      "7\n"
     ]
    }
   ],
   "source": [
    "#I want to print 7\n",
    "print(l[1,1,0])"
   ]
  },
  {
   "cell_type": "code",
   "execution_count": 54,
   "id": "e53d94ae",
   "metadata": {},
   "outputs": [
    {
     "name": "stdout",
     "output_type": "stream",
     "text": [
      "[[[ 1  2]\n",
      "  [10 10]]\n",
      "\n",
      " [[ 5  6]\n",
      "  [ 7  8]]]\n"
     ]
    }
   ],
   "source": [
    "#I want to change second row of first array with 1\n",
    "l[0,1,:] = 10\n",
    "print(l)"
   ]
  },
  {
   "cell_type": "code",
   "execution_count": 55,
   "id": "a250e206",
   "metadata": {},
   "outputs": [
    {
     "name": "stdout",
     "output_type": "stream",
     "text": [
      "[[[ 1  2]\n",
      "  [13 45]]\n",
      "\n",
      " [[ 5  6]\n",
      "  [ 7  8]]]\n"
     ]
    }
   ],
   "source": [
    "#I want to change second row of first array with [13,45]\n",
    "l[0,1,:] = [13,45]\n",
    "print(l)"
   ]
  },
  {
   "cell_type": "code",
   "execution_count": 58,
   "id": "a7af5a6c",
   "metadata": {
    "scrolled": true
   },
   "outputs": [
    {
     "name": "stdout",
     "output_type": "stream",
     "text": [
      "[[[ 1  2]\n",
      "  [14 45]]\n",
      "\n",
      " [[ 5  6]\n",
      "  [10  5]]]\n",
      "[[[ 1  2]\n",
      "  [55 55]]\n",
      "\n",
      " [[ 5  6]\n",
      "  [55 55]]]\n"
     ]
    }
   ],
   "source": [
    "#I want to change second row of both internal array with [14,45]\n",
    "l[:, 1, :] = [[14,45], [10,5]]\n",
    "print(l)\n",
    "l[:, 1, :] = [55,55]\n",
    "print(l)"
   ]
  },
  {
   "cell_type": "markdown",
   "id": "698f84ac",
   "metadata": {},
   "source": [
    "Initialising different types of arrays"
   ]
  },
  {
   "cell_type": "code",
   "execution_count": 69,
   "id": "9526a172",
   "metadata": {},
   "outputs": [
    {
     "name": "stdout",
     "output_type": "stream",
     "text": [
      "[0. 0.]\n",
      "------\n",
      "------\n",
      "[[0. 0.]\n",
      " [0. 0.]]\n",
      "------\n",
      "[[[0. 0. 0.]\n",
      "  [0. 0. 0.]]\n",
      "\n",
      " [[0. 0. 0.]\n",
      "  [0. 0. 0.]]]\n",
      "------\n",
      "[[[[0. 0. 0.]\n",
      "   [0. 0. 0.]\n",
      "   [0. 0. 0.]]\n",
      "\n",
      "  [[0. 0. 0.]\n",
      "   [0. 0. 0.]\n",
      "   [0. 0. 0.]]]\n",
      "\n",
      "\n",
      " [[[0. 0. 0.]\n",
      "   [0. 0. 0.]\n",
      "   [0. 0. 0.]]\n",
      "\n",
      "  [[0. 0. 0.]\n",
      "   [0. 0. 0.]\n",
      "   [0. 0. 0.]]]]\n"
     ]
    }
   ],
   "source": [
    "#creating arrays filled with zeroes\n",
    "#a = np.zeroes(2) AttributeError: module 'numpy' has no attribute 'zeroes'\n",
    "a = np.zeros(2)\n",
    "print(a)\n",
    "print(\"------\")\n",
    "# a = np.zeros(2,2) TypeError: Cannot interpret '2' as a data type\n",
    "print(\"------\")\n",
    "a = np.zeros((2,2))\n",
    "print(a)\n",
    "print(\"------\")\n",
    "a = np.zeros((2,2,3))\n",
    "print(a)\n",
    "print(\"------\")\n",
    "a = np.zeros((2,2 ,3,3))\n",
    "print(a)"
   ]
  },
  {
   "cell_type": "code",
   "execution_count": 74,
   "id": "2d548b92",
   "metadata": {},
   "outputs": [
    {
     "name": "stdout",
     "output_type": "stream",
     "text": [
      "[1.]\n",
      "----\n",
      "[[1. 1.]]\n",
      "----\n",
      "[[[1. 1. 1. 1.]\n",
      "  [1. 1. 1. 1.]\n",
      "  [1. 1. 1. 1.]]\n",
      "\n",
      " [[1. 1. 1. 1.]\n",
      "  [1. 1. 1. 1.]\n",
      "  [1. 1. 1. 1.]]\n",
      "\n",
      " [[1. 1. 1. 1.]\n",
      "  [1. 1. 1. 1.]\n",
      "  [1. 1. 1. 1.]]]\n",
      "----\n"
     ]
    }
   ],
   "source": [
    "#crating arrays with ones\n",
    "a = np.ones(1)\n",
    "print(a)\n",
    "print(\"----\")\n",
    "\n",
    "#a = np.ones(1,2) TypeError: Cannot interpret '2' as a data type\n",
    "a = np.ones((1,2))\n",
    "print(a)\n",
    "print(\"----\")\n",
    "a = np.ones((3,3,4), dtype='float32')\n",
    "print(a)\n",
    "print(\"----\")"
   ]
  },
  {
   "cell_type": "code",
   "execution_count": 77,
   "id": "89b22134",
   "metadata": {},
   "outputs": [
    {
     "name": "stdout",
     "output_type": "stream",
     "text": [
      "[[[5. 5. 5. 5.]\n",
      "  [5. 5. 5. 5.]\n",
      "  [5. 5. 5. 5.]]\n",
      "\n",
      " [[5. 5. 5. 5.]\n",
      "  [5. 5. 5. 5.]\n",
      "  [5. 5. 5. 5.]]\n",
      "\n",
      " [[5. 5. 5. 5.]\n",
      "  [5. 5. 5. 5.]\n",
      "  [5. 5. 5. 5.]]]\n"
     ]
    }
   ],
   "source": [
    "#take shape of another number and fill with random number\n",
    "#a = np.full_like(a) TypeError: _full_like_dispatcher() missing 1 required positional argument: 'fill_value'\n",
    "a = np.full_like(a, 5)\n",
    "print(a)"
   ]
  },
  {
   "cell_type": "code",
   "execution_count": 81,
   "id": "d801bbed",
   "metadata": {},
   "outputs": [
    {
     "name": "stdout",
     "output_type": "stream",
     "text": [
      "[[0.51458444 0.71761405 0.0353193 ]\n",
      " [0.33618819 0.83962468 0.51337514]]\n",
      "----\n",
      "[[[0.55189082 0.16880796 0.47933886]\n",
      "  [0.57431457 0.86152398 0.0456113 ]\n",
      "  [0.55585628 0.67068578 0.00614029]]\n",
      "\n",
      " [[0.05030382 0.12953748 0.02117881]\n",
      "  [0.20585455 0.28834758 0.63021302]\n",
      "  [0.61141602 0.49366034 0.94525097]]]\n"
     ]
    }
   ],
   "source": [
    "#generating array with random values\n",
    "a = np.ones((3,3,4))\n",
    "# a = np.random.rand(a) TypeError: only integer scalar arrays can be converted to a scalar index\n",
    "a = np.random.rand(2,3)\n",
    "print(a)\n",
    "\n",
    "a = np.random.rand(2,3,3)\n",
    "print(\"----\")\n",
    "print(a)"
   ]
  },
  {
   "cell_type": "code",
   "execution_count": 92,
   "id": "8f2a2e33",
   "metadata": {},
   "outputs": [
    {
     "name": "stdout",
     "output_type": "stream",
     "text": [
      "[[3 3 7 7]\n",
      " [5 7 7 4]\n",
      " [7 3 3 2]]\n",
      "------------\n",
      "[[6 7 5 7]\n",
      " [3 0 6 1]\n",
      " [5 1 7 7]]\n"
     ]
    }
   ],
   "source": [
    "#creating random arrays with integer\n",
    "# 2 = start, 8 = end excluded , (3, 4) size of the array\n",
    "a= np.random.randint(2,8, size = (3,4))\n",
    "print(a)\n",
    "print(\"------------\")\n",
    "\n",
    "#8 = end value not included\n",
    "a= np.random.randint(8, size = (3,4))\n",
    "print(a)"
   ]
  },
  {
   "cell_type": "code",
   "execution_count": 93,
   "id": "372480e6",
   "metadata": {},
   "outputs": [
    {
     "name": "stdout",
     "output_type": "stream",
     "text": [
      "[[0.63316048 0.59046325 0.12504749 0.28176872]\n",
      " [0.71671528 0.03309643 0.58499646 0.55009893]\n",
      " [0.07662555 0.79554851 0.23840431 0.3251253 ]]\n"
     ]
    }
   ],
   "source": [
    "#creating an array similar to given array filled with random value\n",
    "b= np.random.random_sample(a.shape)\n",
    "print(b)"
   ]
  },
  {
   "cell_type": "code",
   "execution_count": 94,
   "id": "f91f6d6c",
   "metadata": {},
   "outputs": [
    {
     "name": "stdout",
     "output_type": "stream",
     "text": [
      "[[1. 0.]\n",
      " [0. 1.]]\n",
      "------\n",
      "[[1. 0. 0. 0.]\n",
      " [0. 1. 0. 0.]\n",
      " [0. 0. 1. 0.]\n",
      " [0. 0. 0. 1.]]\n",
      "------\n"
     ]
    }
   ],
   "source": [
    "#creating identiy matrix\n",
    "b = np.identity(2)\n",
    "print(b)\n",
    "print(\"------\")\n",
    "b = np.identity(4)\n",
    "print(b)\n",
    "print(\"------\")"
   ]
  },
  {
   "cell_type": "code",
   "execution_count": 100,
   "id": "ec17f447",
   "metadata": {},
   "outputs": [
    {
     "name": "stdout",
     "output_type": "stream",
     "text": [
      "[1 1 1 2 2 2 3 3 3]\n",
      "--------------\n",
      "[[1 2 3]\n",
      " [1 2 3]\n",
      " [1 2 3]\n",
      " [1 2 3]]\n",
      "--------------\n",
      "[[1 1 1 1 2 2 2 2 3 3 3 3]]\n",
      "--------------\n",
      "[[1 2 3]\n",
      " [1 2 3]\n",
      " [1 2 3]\n",
      " [1 2 3]\n",
      " [2 3 4]\n",
      " [2 3 4]\n",
      " [2 3 4]\n",
      " [2 3 4]\n",
      " [0 0 0]\n",
      " [0 0 0]\n",
      " [0 0 0]\n",
      " [0 0 0]]\n",
      "--------------\n"
     ]
    }
   ],
   "source": [
    "#repeat an arrya\n",
    "a = np.array([1,2,3])\n",
    "r = np.repeat(a, 3)\n",
    "#repeat no need to specify axis in 1d array as it is by default 0\n",
    "print(r)\n",
    "print(\"--------------\")\n",
    "a = np.array([[1,2,3]])\n",
    "r = np.repeat(a, 4, axis = 0) #repeat along rows\n",
    "print(r)\n",
    "print(\"--------------\")\n",
    "\n",
    "r = np.repeat(a, 4, axis = 1) #repeat along rows\n",
    "print(r)\n",
    "print(\"--------------\")\n",
    "\n",
    "\n",
    "# a = np.array([[1,2,3][2,3,4]])  TypeError: list indices must be integers or slices, not tuple\n",
    "a = np.array([[1,2,3],[2,3,4],[0,0,0]])\n",
    "r = np.repeat(a, 4, axis = 0) #repeat along rows\n",
    "print(r)\n",
    "print(\"--------------\")\n",
    "\n"
   ]
  },
  {
   "cell_type": "code",
   "execution_count": 106,
   "id": "24b66856",
   "metadata": {},
   "outputs": [
    {
     "name": "stdout",
     "output_type": "stream",
     "text": [
      "[[1. 1. 1. 1. 1.]\n",
      " [1. 1. 1. 1. 1.]\n",
      " [1. 1. 1. 1. 1.]\n",
      " [1. 1. 1. 1. 1.]\n",
      " [1. 1. 1. 1. 1.]]\n",
      "[[0. 0. 0.]\n",
      " [0. 0. 0.]\n",
      " [0. 0. 0.]]\n",
      "[[0. 0. 0.]\n",
      " [0. 9. 0.]\n",
      " [0. 0. 0.]]\n",
      "----------\n",
      "[[1. 1. 1. 1. 1.]\n",
      " [1. 0. 0. 0. 1.]\n",
      " [1. 0. 9. 0. 1.]\n",
      " [1. 0. 0. 0. 1.]\n",
      " [1. 1. 1. 1. 1.]]\n"
     ]
    }
   ],
   "source": [
    "a = np.ones((5,5))\n",
    "print(a)\n",
    "b = np.zeros((3,3))\n",
    "print(b)\n",
    "b[1,1] = 9\n",
    "print(b)\n",
    "a[1:4,1:4] = b\n",
    "print(\"----------\")\n",
    "print(a)"
   ]
  },
  {
   "cell_type": "code",
   "execution_count": 108,
   "id": "8610f2d4",
   "metadata": {},
   "outputs": [
    {
     "name": "stdout",
     "output_type": "stream",
     "text": [
      "[10  2  3]\n",
      "[10  2  3]\n",
      "-------\n",
      "[10  2  3]\n",
      "[20  2  3]\n"
     ]
    }
   ],
   "source": [
    "#copying one arrray to another ref to same array\n",
    "a = np.array([1,2,3])\n",
    "b = a\n",
    "b[0] = 10\n",
    "print(a)\n",
    "print(b)\n",
    "print(\"-------\")\n",
    "#to make a copy you need to specify that make a copy\n",
    "b = a.copy()\n",
    "b[0] = 20\n",
    "print(a)\n",
    "print(b)"
   ]
  },
  {
   "cell_type": "markdown",
   "id": "a788a9a1",
   "metadata": {},
   "source": [
    "Mathematics\n"
   ]
  },
  {
   "cell_type": "code",
   "execution_count": 114,
   "id": "6b10600d",
   "metadata": {},
   "outputs": [
    {
     "name": "stdout",
     "output_type": "stream",
     "text": [
      "[3 4 5]\n",
      "[-1  0  1]\n",
      "[-2  0  2]\n",
      "[4 0 4]\n",
      "[2. 0. 2.]\n",
      "[3. 1. 3.]\n"
     ]
    }
   ],
   "source": [
    "a = np.array([1,2,3])\n",
    "a+=2\n",
    "print(a)\n",
    "a-=4\n",
    "print(a)\n",
    "a*=2\n",
    "print(a)\n",
    "a= a ** 2\n",
    "print(a)\n",
    "# a/=2 TypeError: No loop matching the specified signature and casting was found for ufunc true_divide\n",
    "a= a / 2\n",
    "print(a)\n",
    "b = np.ones(3)\n",
    "print(a+b)\n"
   ]
  },
  {
   "cell_type": "markdown",
   "id": "5cb86ed1",
   "metadata": {},
   "source": [
    "Trignometry\n"
   ]
  },
  {
   "cell_type": "code",
   "execution_count": 115,
   "id": "2bee4243",
   "metadata": {},
   "outputs": [
    {
     "name": "stdout",
     "output_type": "stream",
     "text": [
      "[0.90929743 0.         0.90929743]\n"
     ]
    }
   ],
   "source": [
    "a = np.sin(a)\n",
    "print(a)"
   ]
  },
  {
   "cell_type": "markdown",
   "id": "fde12f5c",
   "metadata": {},
   "source": [
    "####Linear Algebra different from normal maths follows matrix rule\n"
   ]
  },
  {
   "cell_type": "code",
   "execution_count": 119,
   "id": "d067f0ba",
   "metadata": {},
   "outputs": [
    {
     "name": "stdout",
     "output_type": "stream",
     "text": [
      "[[ 6 12]\n",
      " [15 30]]\n",
      "1.0\n",
      "[[1. 0. 0.]\n",
      " [0. 1. 0.]\n",
      " [0. 0. 1.]]\n"
     ]
    }
   ],
   "source": [
    "a = np.array([[1,2,3], [4,5,6]])\n",
    "b = np.array([[1,2],[1,2],[1,2]])\n",
    "#normal multiplication will give error becuase of different row and column values\n",
    "#so doing matrix multiplication\n",
    "print(np.matmul(a,b))\n",
    "#resultant matrix should be 2*2\n",
    "\n",
    "#getting determinant of identity matrix\n",
    "c = np.identity(3)\n",
    "print(np.linalg.det(c)) #should be 1\n",
    "print(c)"
   ]
  },
  {
   "cell_type": "markdown",
   "id": "017789c3",
   "metadata": {},
   "source": [
    "### Statistics\n"
   ]
  },
  {
   "cell_type": "code",
   "execution_count": 121,
   "id": "3d31098d",
   "metadata": {},
   "outputs": [
    {
     "name": "stdout",
     "output_type": "stream",
     "text": [
      "1\n",
      "[1 2 3]\n",
      "[1 4]\n",
      "---------------\n",
      "6\n",
      "[4 5 6]\n",
      "[3 6]\n",
      "---------------\n",
      "21\n",
      "---------------\n",
      "[5 7 9]\n",
      "---------------\n",
      "[ 6 15]\n"
     ]
    }
   ],
   "source": [
    "a = np.array([[1,2,3], [4,5,6]])\n",
    "k = np.min(a)\n",
    "print(k)\n",
    "k = np.min(a, axis = 0)\n",
    "print(k)\n",
    "\n",
    "k = np.min(a, axis = 1)\n",
    "print(k )\n",
    "print(\"---------------\")\n",
    "k = np.max(a)\n",
    "print(k)\n",
    "k = np.max(a, axis = 0)\n",
    "print(k)\n",
    "\n",
    "k = np.max(a, axis = 1)\n",
    "print(k )\n",
    "print(\"---------------\")\n",
    "k = np.sum(a)\n",
    "print(k)\n",
    "print(\"---------------\")\n",
    "k = np.sum(a, axis = 0)\n",
    "print(k)\n",
    "print(\"---------------\")\n",
    "k = np.sum(a, axis = 1)\n",
    "print(k)"
   ]
  },
  {
   "cell_type": "markdown",
   "id": "80ab7a5a",
   "metadata": {},
   "source": [
    "### Rearranging arrays"
   ]
  },
  {
   "cell_type": "code",
   "execution_count": 127,
   "id": "b1b804bc",
   "metadata": {},
   "outputs": [
    {
     "name": "stdout",
     "output_type": "stream",
     "text": [
      "[[1 8]\n",
      " [1 5]\n",
      " [3 6]\n",
      " [1 6]]\n",
      "[[1 2 3]\n",
      " [4 5 6]]\n"
     ]
    }
   ],
   "source": [
    "before = np.random.randint(1, 10, size = (4,2)) #a= np.random.randint(2,8, size = (3,4))\n",
    "print(before)\n",
    "after = before.reshape(8,1)\n",
    "print(a)"
   ]
  },
  {
   "cell_type": "code",
   "execution_count": 131,
   "id": "c5fd771b",
   "metadata": {},
   "outputs": [
    {
     "name": "stdout",
     "output_type": "stream",
     "text": [
      "[[1. 1. 1.]\n",
      " [0. 0. 0.]]\n",
      "[[1. 1. 1.]\n",
      " [0. 0. 0.]\n",
      " [0. 0. 0.]]\n",
      "[1. 1. 1. 0. 0. 0.]\n"
     ]
    }
   ],
   "source": [
    "#a= np.ones(5) both array much have same size \n",
    "a= np.ones(3)\n",
    "b = np.zeros(3)\n",
    "print(np.vstack([a,b]))\n",
    "print(np.vstack([a,b,b]))\n",
    "print(np.hstack([a,b]))\n",
    "#stacking of 2d arrays can also be done"
   ]
  },
  {
   "cell_type": "code",
   "execution_count": 132,
   "id": "e51f208c",
   "metadata": {},
   "outputs": [
    {
     "name": "stdout",
     "output_type": "stream",
     "text": [
      "[[74 17 86 41]\n",
      " [85 48 61 86]\n",
      " [32 76  6 28]\n",
      " [84 52 42 39]\n",
      " [80 32 10 77]\n",
      " [ 7 28 75 72]\n",
      " [48 11 85 79]\n",
      " [67 12 76 13]\n",
      " [ 7 99  7 85]\n",
      " [60 53 75 17]\n",
      " [69  9 79 75]\n",
      " [82  8 67 50]\n",
      " [46 20 26  3]\n",
      " [91 20 82 51]\n",
      " [52  4 79 88]\n",
      " [20 37 79 41]]\n"
     ]
    }
   ],
   "source": [
    "a= np.random.randint(1,100, size = (16,4))\n",
    "print(a)"
   ]
  },
  {
   "cell_type": "code",
   "execution_count": 133,
   "id": "97f1c662",
   "metadata": {},
   "outputs": [
    {
     "name": "stdout",
     "output_type": "stream",
     "text": [
      "[[74. 17. 86. 41.]\n",
      " [85. 48. 61. 86.]\n",
      " [32. 76.  6. 28.]\n",
      " [84. 52. 42. 39.]\n",
      " [80. 32. 10. 77.]\n",
      " [ 7. 28. 75. 72.]\n",
      " [48. 11. 85. 79.]\n",
      " [67. 12. 76. 13.]\n",
      " [ 7. 99.  7. 85.]\n",
      " [60. 53. 75. 17.]\n",
      " [69.  9. 79. 75.]\n",
      " [82.  8. 67. 50.]\n",
      " [46. 20. 26.  3.]\n",
      " [91. 20. 82. 51.]\n",
      " [52.  4. 79. 88.]\n",
      " [20. 37. 79. 41.]]\n",
      "[[74 17 86 41]\n",
      " [85 48 61 86]\n",
      " [32 76  6 28]\n",
      " [84 52 42 39]\n",
      " [80 32 10 77]\n",
      " [ 7 28 75 72]\n",
      " [48 11 85 79]\n",
      " [67 12 76 13]\n",
      " [ 7 99  7 85]\n",
      " [60 53 75 17]\n",
      " [69  9 79 75]\n",
      " [82  8 67 50]\n",
      " [46 20 26  3]\n",
      " [91 20 82 51]\n",
      " [52  4 79 88]\n",
      " [20 37 79 41]]\n"
     ]
    }
   ],
   "source": [
    "#makes a copy and converts datatype\n",
    "print(a.astype('float32'))\n",
    "#original array\n",
    "print(a)"
   ]
  },
  {
   "cell_type": "code",
   "execution_count": 134,
   "id": "c46aabc3",
   "metadata": {},
   "outputs": [
    {
     "name": "stdout",
     "output_type": "stream",
     "text": [
      "[[ True False  True False]\n",
      " [ True False  True  True]\n",
      " [False  True False False]\n",
      " [ True  True False False]\n",
      " [ True False False  True]\n",
      " [False False  True  True]\n",
      " [False False  True  True]\n",
      " [ True False  True False]\n",
      " [False  True False  True]\n",
      " [ True  True  True False]\n",
      " [ True False  True  True]\n",
      " [ True False  True False]\n",
      " [False False False False]\n",
      " [ True False  True  True]\n",
      " [ True False  True  True]\n",
      " [False False  True False]]\n"
     ]
    }
   ],
   "source": [
    "\n",
    "print(a > 50)"
   ]
  },
  {
   "cell_type": "code",
   "execution_count": 135,
   "id": "e48b87ca",
   "metadata": {},
   "outputs": [
    {
     "name": "stdout",
     "output_type": "stream",
     "text": [
      "[74 86 85 61 86 76 84 52 80 77 75 72 85 79 67 76 99 85 60 53 75 69 79 75\n",
      " 82 67 91 82 51 52 79 88 79]\n"
     ]
    }
   ],
   "source": [
    "#where ever value is greater than 50 print those\n",
    "print(a[a>50])"
   ]
  },
  {
   "cell_type": "code",
   "execution_count": 138,
   "id": "0fe5c878",
   "metadata": {},
   "outputs": [
    {
     "name": "stdout",
     "output_type": "stream",
     "text": [
      "[86 85 72]\n"
     ]
    }
   ],
   "source": [
    "#printing list content as index given in form of list\n",
    "a = np.array([74, 86, 85 ,77, 75, 72 ])\n",
    "print(a[[1,2,-1]])"
   ]
  },
  {
   "cell_type": "code",
   "execution_count": 142,
   "id": "253a1820",
   "metadata": {},
   "outputs": [
    {
     "name": "stdout",
     "output_type": "stream",
     "text": [
      "[[ 6 22 70 93]\n",
      " [15 20 67 76]\n",
      " [72 48 31 89]\n",
      " [38 64 29  2]\n",
      " [ 8 23 91 84]\n",
      " [30 21 56 35]\n",
      " [68 57 61  2]\n",
      " [45 76 81 17]\n",
      " [62 16 27 42]\n",
      " [80 19 12 10]\n",
      " [25 62 90 76]\n",
      " [55 24 83 78]\n",
      " [37  2 46 20]\n",
      " [46 62 33 33]\n",
      " [74 95 13 47]\n",
      " [35 49 66 16]]\n",
      "--------\n",
      "[ True  True  True  True]\n",
      "--------\n",
      "[[False False False False]\n",
      " [False False False False]\n",
      " [False False False False]\n",
      " [False False False False]\n",
      " [False False False False]\n",
      " [False False  True False]\n",
      " [False  True False False]\n",
      " [False False False False]\n",
      " [False False False False]\n",
      " [False False False False]\n",
      " [False False False False]\n",
      " [ True False False False]\n",
      " [False False False False]\n",
      " [False False False False]\n",
      " [False False False False]\n",
      " [False False False False]]\n"
     ]
    }
   ],
   "source": [
    "a= np.random.randint(1,100, size = (16,4))\n",
    "print(a)\n",
    "print(\"--------\")\n",
    "#if any data along column is greater than 50\n",
    "print(np.any(a > 50 , axis = 0))\n",
    "print(\"--------\")\n",
    "print(((a > 50) & (a < 60)))"
   ]
  },
  {
   "cell_type": "code",
   "execution_count": 4,
   "id": "1ecbfa1a",
   "metadata": {},
   "outputs": [
    {
     "data": {
      "text/plain": [
       "array([[  1.,  13.,  21.,  11., 196.,  75.,   4.,   3.,  34.,   6.,   7.,\n",
       "          8.,   0.,   1.,   2.,   3.,   4.,   5.],\n",
       "       [  3.,  42.,  12.,  33., 766.,  75.,   4.,  55.,   6.,   4.,   3.,\n",
       "          4.,   5.,   6.,   7.,   0.,  11.,  12.],\n",
       "       [  1.,  22.,  33.,  11., 999.,  11.,   2.,   1.,  78.,   0.,   1.,\n",
       "          2.,   9.,   8.,   7.,   1.,  76.,  88.]])"
      ]
     },
     "execution_count": 4,
     "metadata": {},
     "output_type": "execute_result"
    }
   ],
   "source": [
    "#(r'/Users/divyashahi/OneDrive - Adobe/Machine_Leaning_Material/pokemon_data.csv')\n",
    "np.genfromtxt(r'/Users/divyashahi/OneDrive - Adobe/Machine_Leaning_Material/data.txt', delimiter=',')"
   ]
  },
  {
   "cell_type": "code",
   "execution_count": 5,
   "id": "b96e1a1a",
   "metadata": {},
   "outputs": [
    {
     "data": {
      "text/plain": [
       "array([[  1.,  nan,  nan, ...,  45.,   1.,  nan],\n",
       "       [  2.,  nan,  nan, ...,  60.,   1.,  nan],\n",
       "       [  3.,  nan,  nan, ...,  80.,   1.,  nan],\n",
       "       ...,\n",
       "       [720.,  nan,  nan, ...,  70.,   6.,  nan],\n",
       "       [720.,  nan,  nan, ...,  80.,   6.,  nan],\n",
       "       [721.,  nan,  nan, ...,  70.,   6.,  nan]])"
      ]
     },
     "execution_count": 5,
     "metadata": {},
     "output_type": "execute_result"
    }
   ],
   "source": [
    "np.genfromtxt(r'/Users/divyashahi/OneDrive - Adobe/Machine_Leaning_Material/pokemon_data.csv', delimiter=',')"
   ]
  },
  {
   "cell_type": "code",
   "execution_count": null,
   "id": "016334f3",
   "metadata": {},
   "outputs": [],
   "source": [
    "#nan be"
   ]
  }
 ],
 "metadata": {
  "kernelspec": {
   "display_name": "Python 3",
   "language": "python",
   "name": "python3"
  },
  "language_info": {
   "codemirror_mode": {
    "name": "ipython",
    "version": 3
   },
   "file_extension": ".py",
   "mimetype": "text/x-python",
   "name": "python",
   "nbconvert_exporter": "python",
   "pygments_lexer": "ipython3",
   "version": "3.8.8"
  }
 },
 "nbformat": 4,
 "nbformat_minor": 5
}
