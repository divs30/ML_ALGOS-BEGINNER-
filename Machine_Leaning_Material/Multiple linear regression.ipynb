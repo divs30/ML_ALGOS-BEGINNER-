{
 "cells": [
  {
   "cell_type": "code",
   "execution_count": 1,
   "id": "da7d7c7a",
   "metadata": {},
   "outputs": [],
   "source": [
    "#categorical data , data \n",
    "#which are descriptive rather than numerically informative"
   ]
  },
  {
   "cell_type": "code",
   "execution_count": 3,
   "id": "e19df4f1",
   "metadata": {},
   "outputs": [],
   "source": [
    "import numpy as np\n",
    "import pandas as pd\n",
    "import matplotlib.pyplot as plt\n",
    "#importing library for label encoding, OneHotEncoder as we \n",
    "#want data in binary format\n",
    "from sklearn.preprocessing import LabelEncoder, OneHotEncoder\n",
    "#trying stack overflow\n",
    "from sklearn.compose import ColumnTransformer\n",
    "#for splitting data set\n",
    "from sklearn.model_selection import train_test_split\n",
    "#using linear regression just imput is more tha none\n",
    "from sklearn.linear_model import LinearRegression\n",
    "#needed for backward elemeination\n",
    "import statsmodels.formula.api as sm"
   ]
  },
  {
   "cell_type": "code",
   "execution_count": 35,
   "id": "8de3c07c",
   "metadata": {},
   "outputs": [],
   "source": [
    "data = pd.read_csv(r'/Users/divyashahi/OneDrive - Adobe/Machine_Leaning_Material/Startups_company.csv')"
   ]
  },
  {
   "cell_type": "code",
   "execution_count": 36,
   "id": "b8157a24",
   "metadata": {},
   "outputs": [
    {
     "data": {
      "text/html": [
       "<div>\n",
       "<style scoped>\n",
       "    .dataframe tbody tr th:only-of-type {\n",
       "        vertical-align: middle;\n",
       "    }\n",
       "\n",
       "    .dataframe tbody tr th {\n",
       "        vertical-align: top;\n",
       "    }\n",
       "\n",
       "    .dataframe thead th {\n",
       "        text-align: right;\n",
       "    }\n",
       "</style>\n",
       "<table border=\"1\" class=\"dataframe\">\n",
       "  <thead>\n",
       "    <tr style=\"text-align: right;\">\n",
       "      <th></th>\n",
       "      <th>R&amp;D Spend</th>\n",
       "      <th>Administration</th>\n",
       "      <th>Marketing Spend</th>\n",
       "      <th>State</th>\n",
       "      <th>Profit</th>\n",
       "    </tr>\n",
       "  </thead>\n",
       "  <tbody>\n",
       "    <tr>\n",
       "      <th>0</th>\n",
       "      <td>165349.20</td>\n",
       "      <td>136897.80</td>\n",
       "      <td>471784.10</td>\n",
       "      <td>New York</td>\n",
       "      <td>192261.83</td>\n",
       "    </tr>\n",
       "    <tr>\n",
       "      <th>1</th>\n",
       "      <td>162597.70</td>\n",
       "      <td>151377.59</td>\n",
       "      <td>443898.53</td>\n",
       "      <td>California</td>\n",
       "      <td>191792.06</td>\n",
       "    </tr>\n",
       "    <tr>\n",
       "      <th>2</th>\n",
       "      <td>153441.51</td>\n",
       "      <td>101145.55</td>\n",
       "      <td>407934.54</td>\n",
       "      <td>Florida</td>\n",
       "      <td>191050.39</td>\n",
       "    </tr>\n",
       "    <tr>\n",
       "      <th>3</th>\n",
       "      <td>144372.41</td>\n",
       "      <td>118671.85</td>\n",
       "      <td>383199.62</td>\n",
       "      <td>New York</td>\n",
       "      <td>182901.99</td>\n",
       "    </tr>\n",
       "    <tr>\n",
       "      <th>4</th>\n",
       "      <td>142107.34</td>\n",
       "      <td>91391.77</td>\n",
       "      <td>366168.42</td>\n",
       "      <td>Florida</td>\n",
       "      <td>166187.94</td>\n",
       "    </tr>\n",
       "    <tr>\n",
       "      <th>5</th>\n",
       "      <td>131876.90</td>\n",
       "      <td>99814.71</td>\n",
       "      <td>362861.36</td>\n",
       "      <td>New York</td>\n",
       "      <td>156991.12</td>\n",
       "    </tr>\n",
       "    <tr>\n",
       "      <th>6</th>\n",
       "      <td>134615.46</td>\n",
       "      <td>147198.87</td>\n",
       "      <td>127716.82</td>\n",
       "      <td>California</td>\n",
       "      <td>156122.51</td>\n",
       "    </tr>\n",
       "    <tr>\n",
       "      <th>7</th>\n",
       "      <td>130298.13</td>\n",
       "      <td>145530.06</td>\n",
       "      <td>323876.68</td>\n",
       "      <td>Florida</td>\n",
       "      <td>155752.60</td>\n",
       "    </tr>\n",
       "    <tr>\n",
       "      <th>8</th>\n",
       "      <td>120542.52</td>\n",
       "      <td>148718.95</td>\n",
       "      <td>311613.29</td>\n",
       "      <td>New York</td>\n",
       "      <td>152211.77</td>\n",
       "    </tr>\n",
       "    <tr>\n",
       "      <th>9</th>\n",
       "      <td>123334.88</td>\n",
       "      <td>108679.17</td>\n",
       "      <td>304981.62</td>\n",
       "      <td>California</td>\n",
       "      <td>149759.96</td>\n",
       "    </tr>\n",
       "  </tbody>\n",
       "</table>\n",
       "</div>"
      ],
      "text/plain": [
       "   R&D Spend  Administration  Marketing Spend       State     Profit\n",
       "0  165349.20       136897.80        471784.10    New York  192261.83\n",
       "1  162597.70       151377.59        443898.53  California  191792.06\n",
       "2  153441.51       101145.55        407934.54     Florida  191050.39\n",
       "3  144372.41       118671.85        383199.62    New York  182901.99\n",
       "4  142107.34        91391.77        366168.42     Florida  166187.94\n",
       "5  131876.90        99814.71        362861.36    New York  156991.12\n",
       "6  134615.46       147198.87        127716.82  California  156122.51\n",
       "7  130298.13       145530.06        323876.68     Florida  155752.60\n",
       "8  120542.52       148718.95        311613.29    New York  152211.77\n",
       "9  123334.88       108679.17        304981.62  California  149759.96"
      ]
     },
     "execution_count": 36,
     "metadata": {},
     "output_type": "execute_result"
    }
   ],
   "source": [
    "data.head(10)"
   ]
  },
  {
   "cell_type": "code",
   "execution_count": 37,
   "id": "e5a55a45",
   "metadata": {},
   "outputs": [],
   "source": [
    "#extracting data from data set\n",
    "real_X = data.iloc[:, 0:4]\n",
    "real_Y = data.iloc[:, 4]\n",
    "#real_y"
   ]
  },
  {
   "cell_type": "code",
   "execution_count": 38,
   "id": "8274095a",
   "metadata": {},
   "outputs": [
    {
     "data": {
      "text/plain": [
       "array([[165349.2, 136897.8, 471784.1, 'New York'],\n",
       "       [162597.7, 151377.59, 443898.53, 'California'],\n",
       "       [153441.51, 101145.55, 407934.54, 'Florida'],\n",
       "       [144372.41, 118671.85, 383199.62, 'New York'],\n",
       "       [142107.34, 91391.77, 366168.42, 'Florida'],\n",
       "       [131876.9, 99814.71, 362861.36, 'New York'],\n",
       "       [134615.46, 147198.87, 127716.82, 'California'],\n",
       "       [130298.13, 145530.06, 323876.68, 'Florida'],\n",
       "       [120542.52, 148718.95, 311613.29, 'New York'],\n",
       "       [123334.88, 108679.17, 304981.62, 'California'],\n",
       "       [101913.08, 110594.11, 229160.95, 'Florida'],\n",
       "       [100671.96, 91790.61, 249744.55, 'California'],\n",
       "       [93863.75, 127320.38, 249839.44, 'Florida'],\n",
       "       [91992.39, 135495.07, 252664.93, 'California'],\n",
       "       [119943.24, 156547.42, 256512.92, 'Florida'],\n",
       "       [114523.61, 122616.84, 261776.23, 'New York'],\n",
       "       [78013.11, 121597.55, 264346.06, 'California'],\n",
       "       [94657.16, 145077.58, 282574.31, 'New York'],\n",
       "       [91749.16, 114175.79, 294919.57, 'Florida'],\n",
       "       [86419.7, 153514.11, 0.0, 'New York'],\n",
       "       [76253.86, 113867.3, 298664.47, 'California'],\n",
       "       [78389.47, 153773.43, 299737.29, 'New York'],\n",
       "       [73994.56, 122782.75, 303319.26, 'Florida'],\n",
       "       [67532.53, 105751.03, 304768.73, 'Florida'],\n",
       "       [77044.01, 99281.34, 140574.81, 'New York'],\n",
       "       [64664.71, 139553.16, 137962.62, 'California'],\n",
       "       [75328.87, 144135.98, 134050.07, 'Florida'],\n",
       "       [72107.6, 127864.55, 353183.81, 'New York'],\n",
       "       [66051.52, 182645.56, 118148.2, 'Florida'],\n",
       "       [65605.48, 153032.06, 107138.38, 'New York'],\n",
       "       [61994.48, 115641.28, 91131.24, 'Florida'],\n",
       "       [61136.38, 152701.92, 88218.23, 'New York'],\n",
       "       [63408.86, 129219.61, 46085.25, 'California'],\n",
       "       [55493.95, 103057.49, 214634.81, 'Florida'],\n",
       "       [46426.07, 157693.92, 210797.67, 'California'],\n",
       "       [46014.02, 85047.44, 205517.64, 'New York'],\n",
       "       [28663.76, 127056.21, 201126.82, 'Florida'],\n",
       "       [44069.95, 51283.14, 197029.42, 'California'],\n",
       "       [20229.59, 65947.93, 185265.1, 'New York'],\n",
       "       [38558.51, 82982.09, 174999.3, 'California'],\n",
       "       [28754.33, 118546.05, 172795.67, 'California'],\n",
       "       [27892.92, 84710.77, 164470.71, 'Florida'],\n",
       "       [23640.93, 96189.63, 148001.11, 'California'],\n",
       "       [15505.73, 127382.3, 35534.17, 'New York'],\n",
       "       [22177.74, 154806.14, 28334.72, 'California'],\n",
       "       [1000.23, 124153.04, 1903.93, 'New York'],\n",
       "       [1315.46, 115816.21, 297114.46, 'Florida'],\n",
       "       [0.0, 135426.92, 0.0, 'California'],\n",
       "       [542.05, 51743.15, 0.0, 'New York'],\n",
       "       [0.0, 116983.8, 45173.06, 'California']], dtype=object)"
      ]
     },
     "execution_count": 38,
     "metadata": {},
     "output_type": "execute_result"
    }
   ],
   "source": [
    "#extracting data from data set\n",
    "real_X = data.iloc[:, 0:4].values\n",
    "real_Y = data.iloc[:, 4].values\n",
    "real_X"
   ]
  },
  {
   "cell_type": "code",
   "execution_count": 39,
   "id": "0c4a7ed1",
   "metadata": {},
   "outputs": [
    {
     "data": {
      "text/plain": [
       "array([192261.83, 191792.06, 191050.39, 182901.99, 166187.94, 156991.12,\n",
       "       156122.51, 155752.6 , 152211.77, 149759.96, 146121.95, 144259.4 ,\n",
       "       141585.52, 134307.35, 132602.65, 129917.04, 126992.93, 125370.37,\n",
       "       124266.9 , 122776.86, 118474.03, 111313.02, 110352.25, 108733.99,\n",
       "       108552.04, 107404.34, 105733.54, 105008.31, 103282.38, 101004.64,\n",
       "        99937.59,  97483.56,  97427.84,  96778.92,  96712.8 ,  96479.51,\n",
       "        90708.19,  89949.14,  81229.06,  81005.76,  78239.91,  77798.83,\n",
       "        71498.49,  69758.98,  65200.33,  64926.08,  49490.75,  42559.73,\n",
       "        35673.41,  14681.4 ])"
      ]
     },
     "execution_count": 39,
     "metadata": {},
     "output_type": "execute_result"
    }
   ],
   "source": [
    "#extracting data from data set\n",
    "real_X = data.iloc[:, 0:4].values\n",
    "real_Y = data.iloc[:, 4].values\n",
    "#since actual data will be reaquired in 2d array\n",
    "real_Y"
   ]
  },
  {
   "cell_type": "code",
   "execution_count": 40,
   "id": "6e067f6e",
   "metadata": {},
   "outputs": [],
   "source": [
    "#here we have three categorical/ or dummy variable \n",
    "#three name of city which we need to encode\n",
    "#in order to avoid multicolinearity problem"
   ]
  },
  {
   "cell_type": "code",
   "execution_count": 61,
   "id": "3aa06831",
   "metadata": {},
   "outputs": [
    {
     "data": {
      "text/plain": [
       "array([0., 0., 0., 0., 0., 0., 0., 0., 0., 0., 0., 0., 0., 0., 0., 0., 0.,\n",
       "       0., 0., 0., 0., 0., 0., 0., 0., 0., 0., 0., 0., 0., 0., 0., 0., 0.,\n",
       "       0., 0., 0., 0., 0., 0., 0., 0., 0., 0., 0., 0., 0., 0., 1., 0.])"
      ]
     },
     "execution_count": 61,
     "metadata": {},
     "output_type": "execute_result"
    }
   ],
   "source": [
    "#creating an object of class labelEncoder\n",
    "le = LabelEncoder()\n",
    "#going to label encode categorical data, do changes and store in the\n",
    "#req column\n",
    "real_X[:, 3] = le.fit_transform(real_X[:, 3])\n",
    "real_X[:, 3]"
   ]
  },
  {
   "cell_type": "code",
   "execution_count": 62,
   "id": "55e2e42c",
   "metadata": {},
   "outputs": [
    {
     "ename": "ValueError",
     "evalue": "Shape mismatch: if categories is an array, it has to be of shape (n_features,).",
     "output_type": "error",
     "traceback": [
      "\u001b[0;31m---------------------------------------------------------------------------\u001b[0m",
      "\u001b[0;31mValueError\u001b[0m                                Traceback (most recent call last)",
      "\u001b[0;32m<ipython-input-62-fb9f9268a361>\u001b[0m in \u001b[0;36m<module>\u001b[0;34m\u001b[0m\n\u001b[1;32m      6\u001b[0m \u001b[0;34m\u001b[0m\u001b[0m\n\u001b[1;32m      7\u001b[0m \u001b[0;31m#again transform\u001b[0m\u001b[0;34m\u001b[0m\u001b[0;34m\u001b[0m\u001b[0;34m\u001b[0m\u001b[0m\n\u001b[0;32m----> 8\u001b[0;31m \u001b[0mreal_x\u001b[0m \u001b[0;34m=\u001b[0m \u001b[0moneHE\u001b[0m\u001b[0;34m.\u001b[0m\u001b[0mfit_transform\u001b[0m\u001b[0;34m(\u001b[0m\u001b[0mreal_X\u001b[0m\u001b[0;34m)\u001b[0m\u001b[0;34m.\u001b[0m\u001b[0mtoarray\u001b[0m\u001b[0;34m(\u001b[0m\u001b[0;34m)\u001b[0m\u001b[0;34m\u001b[0m\u001b[0;34m\u001b[0m\u001b[0m\n\u001b[0m",
      "\u001b[0;32m~/opt/anaconda3/lib/python3.8/site-packages/sklearn/preprocessing/_encoders.py\u001b[0m in \u001b[0;36mfit_transform\u001b[0;34m(self, X, y)\u001b[0m\n\u001b[1;32m    441\u001b[0m         \"\"\"\n\u001b[1;32m    442\u001b[0m         \u001b[0mself\u001b[0m\u001b[0;34m.\u001b[0m\u001b[0m_validate_keywords\u001b[0m\u001b[0;34m(\u001b[0m\u001b[0;34m)\u001b[0m\u001b[0;34m\u001b[0m\u001b[0;34m\u001b[0m\u001b[0m\n\u001b[0;32m--> 443\u001b[0;31m         \u001b[0;32mreturn\u001b[0m \u001b[0msuper\u001b[0m\u001b[0;34m(\u001b[0m\u001b[0;34m)\u001b[0m\u001b[0;34m.\u001b[0m\u001b[0mfit_transform\u001b[0m\u001b[0;34m(\u001b[0m\u001b[0mX\u001b[0m\u001b[0;34m,\u001b[0m \u001b[0my\u001b[0m\u001b[0;34m)\u001b[0m\u001b[0;34m\u001b[0m\u001b[0;34m\u001b[0m\u001b[0m\n\u001b[0m\u001b[1;32m    444\u001b[0m \u001b[0;34m\u001b[0m\u001b[0m\n\u001b[1;32m    445\u001b[0m     \u001b[0;32mdef\u001b[0m \u001b[0mtransform\u001b[0m\u001b[0;34m(\u001b[0m\u001b[0mself\u001b[0m\u001b[0;34m,\u001b[0m \u001b[0mX\u001b[0m\u001b[0;34m)\u001b[0m\u001b[0;34m:\u001b[0m\u001b[0;34m\u001b[0m\u001b[0;34m\u001b[0m\u001b[0m\n",
      "\u001b[0;32m~/opt/anaconda3/lib/python3.8/site-packages/sklearn/base.py\u001b[0m in \u001b[0;36mfit_transform\u001b[0;34m(self, X, y, **fit_params)\u001b[0m\n\u001b[1;32m    697\u001b[0m         \u001b[0;32mif\u001b[0m \u001b[0my\u001b[0m \u001b[0;32mis\u001b[0m \u001b[0;32mNone\u001b[0m\u001b[0;34m:\u001b[0m\u001b[0;34m\u001b[0m\u001b[0;34m\u001b[0m\u001b[0m\n\u001b[1;32m    698\u001b[0m             \u001b[0;31m# fit method of arity 1 (unsupervised transformation)\u001b[0m\u001b[0;34m\u001b[0m\u001b[0;34m\u001b[0m\u001b[0;34m\u001b[0m\u001b[0m\n\u001b[0;32m--> 699\u001b[0;31m             \u001b[0;32mreturn\u001b[0m \u001b[0mself\u001b[0m\u001b[0;34m.\u001b[0m\u001b[0mfit\u001b[0m\u001b[0;34m(\u001b[0m\u001b[0mX\u001b[0m\u001b[0;34m,\u001b[0m \u001b[0;34m**\u001b[0m\u001b[0mfit_params\u001b[0m\u001b[0;34m)\u001b[0m\u001b[0;34m.\u001b[0m\u001b[0mtransform\u001b[0m\u001b[0;34m(\u001b[0m\u001b[0mX\u001b[0m\u001b[0;34m)\u001b[0m\u001b[0;34m\u001b[0m\u001b[0;34m\u001b[0m\u001b[0m\n\u001b[0m\u001b[1;32m    700\u001b[0m         \u001b[0;32melse\u001b[0m\u001b[0;34m:\u001b[0m\u001b[0;34m\u001b[0m\u001b[0;34m\u001b[0m\u001b[0m\n\u001b[1;32m    701\u001b[0m             \u001b[0;31m# fit method of arity 2 (supervised transformation)\u001b[0m\u001b[0;34m\u001b[0m\u001b[0;34m\u001b[0m\u001b[0;34m\u001b[0m\u001b[0m\n",
      "\u001b[0;32m~/opt/anaconda3/lib/python3.8/site-packages/sklearn/preprocessing/_encoders.py\u001b[0m in \u001b[0;36mfit\u001b[0;34m(self, X, y)\u001b[0m\n\u001b[1;32m    415\u001b[0m         \"\"\"\n\u001b[1;32m    416\u001b[0m         \u001b[0mself\u001b[0m\u001b[0;34m.\u001b[0m\u001b[0m_validate_keywords\u001b[0m\u001b[0;34m(\u001b[0m\u001b[0;34m)\u001b[0m\u001b[0;34m\u001b[0m\u001b[0;34m\u001b[0m\u001b[0m\n\u001b[0;32m--> 417\u001b[0;31m         self._fit(X, handle_unknown=self.handle_unknown,\n\u001b[0m\u001b[1;32m    418\u001b[0m                   force_all_finite='allow-nan')\n\u001b[1;32m    419\u001b[0m         \u001b[0mself\u001b[0m\u001b[0;34m.\u001b[0m\u001b[0mdrop_idx_\u001b[0m \u001b[0;34m=\u001b[0m \u001b[0mself\u001b[0m\u001b[0;34m.\u001b[0m\u001b[0m_compute_drop_idx\u001b[0m\u001b[0;34m(\u001b[0m\u001b[0;34m)\u001b[0m\u001b[0;34m\u001b[0m\u001b[0;34m\u001b[0m\u001b[0m\n",
      "\u001b[0;32m~/opt/anaconda3/lib/python3.8/site-packages/sklearn/preprocessing/_encoders.py\u001b[0m in \u001b[0;36m_fit\u001b[0;34m(self, X, handle_unknown, force_all_finite)\u001b[0m\n\u001b[1;32m     80\u001b[0m         \u001b[0;32mif\u001b[0m \u001b[0mself\u001b[0m\u001b[0;34m.\u001b[0m\u001b[0mcategories\u001b[0m \u001b[0;34m!=\u001b[0m \u001b[0;34m'auto'\u001b[0m\u001b[0;34m:\u001b[0m\u001b[0;34m\u001b[0m\u001b[0;34m\u001b[0m\u001b[0m\n\u001b[1;32m     81\u001b[0m             \u001b[0;32mif\u001b[0m \u001b[0mlen\u001b[0m\u001b[0;34m(\u001b[0m\u001b[0mself\u001b[0m\u001b[0;34m.\u001b[0m\u001b[0mcategories\u001b[0m\u001b[0;34m)\u001b[0m \u001b[0;34m!=\u001b[0m \u001b[0mn_features\u001b[0m\u001b[0;34m:\u001b[0m\u001b[0;34m\u001b[0m\u001b[0;34m\u001b[0m\u001b[0m\n\u001b[0;32m---> 82\u001b[0;31m                 raise ValueError(\"Shape mismatch: if categories is an array,\"\n\u001b[0m\u001b[1;32m     83\u001b[0m                                  \" it has to be of shape (n_features,).\")\n\u001b[1;32m     84\u001b[0m \u001b[0;34m\u001b[0m\u001b[0m\n",
      "\u001b[0;31mValueError\u001b[0m: Shape mismatch: if categories is an array, it has to be of shape (n_features,)."
     ]
    }
   ],
   "source": [
    "#but we want data in binary format so need to use one hot encoer\n",
    "#here we need to pass argument as categorical data\n",
    "#we have three here thee name of cities\n",
    "oneHe = OneHotEncoder()\n",
    "oneHE = OneHotEncoder(categories=[3])\n",
    "\n",
    "#again transform\n",
    "real_x = oneHE.fit_transform(real_X).toarray()"
   ]
  },
  {
   "cell_type": "code",
   "execution_count": 63,
   "id": "fa9274e2",
   "metadata": {},
   "outputs": [
    {
     "data": {
      "text/plain": [
       "array([[0., 1., 1., ..., 0., 0., 1.],\n",
       "       [0., 1., 1., ..., 1., 1., 0.],\n",
       "       [0., 1., 1., ..., 1., 1., 0.],\n",
       "       ...,\n",
       "       [1., 0., 0., ..., 1., 1., 0.],\n",
       "       [0., 1., 1., ..., 0., 0., 1.],\n",
       "       [1., 0., 0., ..., 1., 1., 0.]])"
      ]
     },
     "execution_count": 63,
     "metadata": {},
     "output_type": "execute_result"
    }
   ],
   "source": [
    "#but we want data in binary format so need to use one hot encoer\n",
    "#here we need to pass argument as categorical data\n",
    "#we have three here thee name of cities\n",
    "oneHe = OneHotEncoder()\n",
    "oneHE = OneHotEncoder( categories='auto')\n",
    "#again transform\n",
    "x = real_X\n",
    "real_X = oneHE.fit_transform(real_X).toarray()\n",
    "real_X"
   ]
  },
  {
   "cell_type": "markdown",
   "id": "dbac5b74",
   "metadata": {},
   "source": [
    "14\n",
    "\n",
    "You need to use ColumnTransformer to specify the column index not categories parameter.\n",
    "\n",
    "Constructor parameter categories is to tell distinct category values explicitly. E.g. you could provide [0, 1, 2] explicitly, but auto will determine it. Further, you can use slice() object instead.\n",
    "\n",
    "from sklearn.preprocessing import OneHotEncoder\n",
    "from sklearn.compose import ColumnTransformer\n",
    "\n",
    "X = [[0, 'a'], [0, 'b'], [1, 'a'], [2, 'b']]\n",
    "\n",
    "ct = ColumnTransformer(\n",
    "    [('one_hot_encoder', OneHotEncoder(categories='auto'), [0])],   # The column numbers to be transformed (here is [0] but can be [0, 1, 3])\n",
    "    remainder='passthrough'                                         # Leave the rest of the columns untouched\n",
    ")\n",
    "\n",
    "X = ct.fit_transform(X)"
   ]
  },
  {
   "cell_type": "code",
   "execution_count": 76,
   "id": "154c910e",
   "metadata": {},
   "outputs": [
    {
     "data": {
      "text/plain": [
       "array([[1., 0., 1., ..., 0., 0., 1.],\n",
       "       [1., 0., 1., ..., 0., 1., 0.],\n",
       "       [1., 0., 1., ..., 1., 1., 0.],\n",
       "       ...,\n",
       "       [1., 0., 0., ..., 0., 1., 0.],\n",
       "       [0., 1., 1., ..., 0., 0., 1.],\n",
       "       [1., 0., 0., ..., 0., 1., 0.]])"
      ]
     },
     "execution_count": 76,
     "metadata": {},
     "output_type": "execute_result"
    }
   ],
   "source": [
    "ct = ColumnTransformer(\n",
    "    [('one_hot_encoder', OneHotEncoder(categories='auto'), [3])],   # The column numbers to be transformed (here is [0] but can be [0, 1, 3])\n",
    "    remainder='passthrough'                                         # Leave the rest of the columns untouched\n",
    ")\n",
    "X = ct.fit_transform(x)\n",
    "X"
   ]
  },
  {
   "cell_type": "code",
   "execution_count": 77,
   "id": "2283cfe9",
   "metadata": {},
   "outputs": [],
   "source": [
    "#splitting training and testing data set\n",
    "train_X, test_X, train_Y, test_Y = train_test_split(real_X, real_Y, test_size = 0.2, random_state = 0)"
   ]
  },
  {
   "cell_type": "code",
   "execution_count": 79,
   "id": "eb5376a1",
   "metadata": {},
   "outputs": [
    {
     "data": {
      "text/plain": [
       "LinearRegression()"
      ]
     },
     "execution_count": 79,
     "metadata": {},
     "output_type": "execute_result"
    }
   ],
   "source": [
    "#apply regression model\n",
    "#object variable mlr\n",
    "MLR = LinearRegression()\n",
    "#trainngin compleete in next line\n",
    "MLR.fit(train_X, train_Y)\n"
   ]
  },
  {
   "cell_type": "code",
   "execution_count": 71,
   "id": "2e1391ea",
   "metadata": {},
   "outputs": [],
   "source": [
    "pred_Y = MLR.predict(test_X)"
   ]
  },
  {
   "cell_type": "code",
   "execution_count": 72,
   "id": "cad0f47f",
   "metadata": {},
   "outputs": [
    {
     "data": {
      "text/plain": [
       "array([-7984.63443828,  8788.64621887,  9223.3191479 , -8301.59039468,\n",
       "       -5937.57313552,  7816.22637167,  8396.79580718, -9092.31235426,\n",
       "       -5329.66007827,  5241.35413571,  4783.01655464, -3945.14206044,\n",
       "       -3709.2783466 ,  5502.7380409 ,  5038.41385937, -6105.14919931,\n",
       "       -4054.75504332,  3750.98136382,  4382.52300044, -3944.98385296,\n",
       "         491.25817735,  -182.78752504,  1043.37272473, -1220.95742676,\n",
       "       -3528.06808807,  3851.20859161,  3851.30928438, -3107.48001296,\n",
       "       -2588.72857904,  2958.51171453,  3344.10154536, -2789.75065541,\n",
       "          34.69711206,   187.11058905,   132.49299825,  -148.31193102,\n",
       "       -1000.56351216,  2563.03286474,  1996.37159652, -1682.18504003,\n",
       "       -2260.91041305,  2551.13852912,  2551.13852912, -2260.91041305,\n",
       "       -2009.45115885,  2341.62278332,  2341.62278332, -2009.45115885,\n",
       "       -1284.78004318,  1575.73056566,  1575.73056566, -1284.78004318,\n",
       "       -1863.56528496,  2118.14181655,  2118.14181655, -1863.56528496,\n",
       "        -734.93731312,   998.29662904,   998.29662904,  -734.93731312,\n",
       "       -1206.69168635,  1428.66419242,  1428.66419242, -1206.69168635,\n",
       "           0.        ,     0.        ,     0.        ,     0.        ,\n",
       "        -889.54839386,  1219.36248491,  1219.36248491,  -889.54839386,\n",
       "        -687.83090455,   926.22970428,   926.22970428,  -687.83090455,\n",
       "         167.03779144,   118.34840028,   118.34840028,   167.03779144,\n",
       "       -1509.2974319 ,  1718.22133627,  1718.22133627, -1509.2974319 ,\n",
       "           0.        ,     0.        ,     0.        ,     0.        ,\n",
       "        -215.84223929,   427.00197282,   427.00197282,  -215.84223929,\n",
       "           0.        ,     0.        ,     0.        ,     0.        ,\n",
       "           0.        ,     0.        ,     0.        ,     0.        ,\n",
       "        -491.81382263,   651.10538948,   651.10538948,  -491.81382263,\n",
       "        1071.24987211,  -822.38785239,  -822.38785239,  1071.24987211,\n",
       "        -855.94684899,  1113.67191917,  1113.67191917,  -855.94684899,\n",
       "        1805.14515448, -1508.30923668, -1508.30923668,  1805.14515448,\n",
       "        -644.05217777,   865.40325706,   865.40325706,  -644.05217777,\n",
       "        3271.56513138, -3013.84006119, -3013.84006119,  3271.56513138,\n",
       "        1090.4050452 ,  -855.56907603,  -855.56907603,  1090.4050452 ,\n",
       "        2412.40483921, -2120.11955195, -2120.11955195,  2412.40483921,\n",
       "        2526.5702202 , -2305.8405677 , -2305.8405677 ,  2526.5702202 ,\n",
       "         532.28995699,  -301.14627484,  -301.14627484,   532.28995699,\n",
       "           0.        ,     0.        ,     0.        ,     0.        ,\n",
       "           0.        ,     0.        ,     0.        ,     0.        ,\n",
       "         950.46992314,  -640.74464202,  -640.74464202,   950.46992314,\n",
       "        1779.56163833, -1555.70414956, -1555.70414956,  1779.56163833,\n",
       "        2782.08434675, -2524.91855175, -2524.91855175,  2782.08434675,\n",
       "        3724.06333266, -3383.89605851, -3383.89605851,  3724.06333266,\n",
       "        3720.16868883, -3473.42209906, -3473.42209906,  3720.16868883,\n",
       "        3190.09008298, -2913.47114885, -2913.47114885,  3190.09008298,\n",
       "        4199.49216244, -3968.89222873, -3968.89222873,  4199.49216244,\n",
       "           0.        ,     0.        ,     0.        ,     0.        ,\n",
       "        5359.15681   , -5062.88275517, -5062.88275517,  5359.15681   ,\n",
       "           0.        ,     0.        ,     0.        ,     0.        ,\n",
       "        7149.76466657, -6963.5447246 , -6963.5447246 ,  7149.76466657,\n",
       "        6145.41985152, -5836.59304698, -5836.59304698,  6145.41985152,\n",
       "       -1284.78004318,  1575.73056566,  1575.73056566, -1284.78004318,\n",
       "       -7558.71849933,  7800.74228121,  7800.74228121, -7558.71849933,\n",
       "           0.        ,     0.        ,     0.        ,     0.        ,\n",
       "       -2009.45115885,  2341.62278332,  2341.62278332, -2009.45115885,\n",
       "           0.        ,     0.        ,     0.        ,     0.        ,\n",
       "       -1863.56528496,  2118.14181655,  2118.14181655, -1863.56528496,\n",
       "           0.        ,     0.        ,     0.        ,     0.        ,\n",
       "           0.        ,     0.        ,     0.        ,     0.        ,\n",
       "       -2875.53455809,  3107.62073158,  3107.62073158, -2875.53455809,\n",
       "        -855.94684899,  1113.67191917,  1113.67191917,  -855.94684899,\n",
       "        3190.09008298, -2913.47114885, -2913.47114885,  3190.09008298,\n",
       "           0.        ,     0.        ,     0.        ,     0.        ,\n",
       "       -1206.69168635,  1428.66419242,  1428.66419242, -1206.69168635,\n",
       "        -215.84223929,   427.00197282,   427.00197282,  -215.84223929,\n",
       "        3724.06333266, -3383.89605851, -3383.89605851,  3724.06333266,\n",
       "           0.        ,     0.        ,     0.        ,     0.        ,\n",
       "        1071.24987211,  -822.38785239,  -822.38785239,  1071.24987211,\n",
       "        1090.4050452 ,  -855.56907603,  -855.56907603,  1090.4050452 ,\n",
       "        -889.54839386,  1219.36248491,  1219.36248491,  -889.54839386,\n",
       "       -5223.24918817,  5462.93226844,  5462.93226844, -5223.24918817,\n",
       "       -7126.1349417 ,  7407.01842162,  7407.01842162, -7126.1349417 ,\n",
       "       -2260.91041305,  2551.13852912,  2551.13852912, -2260.91041305,\n",
       "        5359.15681   , -5062.88275517, -5062.88275517,  5359.15681   ,\n",
       "        1805.14515448, -1508.30923668, -1508.30923668,  1805.14515448,\n",
       "         950.46992314,  -640.74464202,  -640.74464202,   950.46992314,\n",
       "           0.        ,     0.        ,     0.        ,     0.        ,\n",
       "       -4388.26262164,  4647.86232335,  4647.86232335, -4388.26262164,\n",
       "       -1682.18504003,  1977.99302477,  1977.99302477, -1682.18504003,\n",
       "        2526.5702202 , -2305.8405677 , -2305.8405677 ,  2526.5702202 ,\n",
       "       -4170.75898081,  4448.62335631,  4448.62335631, -4170.75898081,\n",
       "           0.        ,     0.        ,     0.        ,     0.        ,\n",
       "        -687.83090455,   926.22970428,   926.22970428,  -687.83090455,\n",
       "       -1729.47514064,  2030.40989637,  2030.40989637, -1729.47514064,\n",
       "        2412.40483921, -2120.11955195, -2120.11955195,  2412.40483921,\n",
       "        6145.41985152, -5836.59304698, -5836.59304698,  6145.41985152,\n",
       "         167.03779144,   118.34840028,   118.34840028,   167.03779144,\n",
       "        -491.81382263,   651.10538948,   651.10538948,  -491.81382263,\n",
       "         532.28995699,  -301.14627484,  -301.14627484,   532.28995699,\n",
       "        3720.16868883, -3473.42209906, -3473.42209906,  3720.16868883,\n",
       "        4199.49216244, -3968.89222873, -3968.89222873,  4199.49216244,\n",
       "        2782.08434675, -2524.91855175, -2524.91855175,  2782.08434675,\n",
       "        7149.76466657, -6963.5447246 , -6963.5447246 ,  7149.76466657,\n",
       "           0.        ,     0.        ,     0.        ,     0.        ,\n",
       "       -1509.2974319 ,  1718.22133627,  1718.22133627, -1509.2974319 ,\n",
       "        3271.56513138, -3013.84006119, -3013.84006119,  3271.56513138,\n",
       "        -644.05217777,   865.40325706,   865.40325706,  -644.05217777,\n",
       "       -3327.57834892,  3565.87357008,  3565.87357008, -3327.57834892,\n",
       "        1779.56163833, -1555.70414956, -1555.70414956,  1779.56163833,\n",
       "        -734.93731312,   998.29662904,   998.29662904,  -734.93731312,\n",
       "           0.        ,     0.        ,     0.        ,     0.        ,\n",
       "       -5875.52393719,  5491.73275245,  5491.73275245, -5875.52393719,\n",
       "       -4388.26262164,  4647.86232335,  4647.86232335, -4388.26262164,\n",
       "       -3327.57834892,  3565.87357008,  3565.87357008, -3327.57834892,\n",
       "       -4170.75898081,  4448.62335631,  4448.62335631, -4170.75898081,\n",
       "       -7126.1349417 ,  7407.01842162,  7407.01842162, -7126.1349417 ,\n",
       "        -687.83090455,   926.22970428,   926.22970428,  -687.83090455,\n",
       "           0.        ,     0.        ,     0.        ,     0.        ,\n",
       "        -889.54839386,  1219.36248491,  1219.36248491,  -889.54839386,\n",
       "       -1509.2974319 ,  1718.22133627,  1718.22133627, -1509.2974319 ,\n",
       "           0.        ,     0.        ,     0.        ,     0.        ,\n",
       "        4199.49216244, -3968.89222873, -3968.89222873,  4199.49216244,\n",
       "        -491.81382263,   651.10538948,   651.10538948,  -491.81382263,\n",
       "         167.03779144,   118.34840028,   118.34840028,   167.03779144,\n",
       "        -855.94684899,  1113.67191917,  1113.67191917,  -855.94684899,\n",
       "       -2875.53455809,  3107.62073158,  3107.62073158, -2875.53455809,\n",
       "           0.        ,     0.        ,     0.        ,     0.        ,\n",
       "       -2260.91041305,  2551.13852912,  2551.13852912, -2260.91041305,\n",
       "       -2009.45115885,  2341.62278332,  2341.62278332, -2009.45115885,\n",
       "           0.        ,     0.        ,     0.        ,     0.        ,\n",
       "       -1284.78004318,  1575.73056566,  1575.73056566, -1284.78004318,\n",
       "       -1682.18504003,  1977.99302477,  1977.99302477, -1682.18504003,\n",
       "       -1863.56528496,  2118.14181655,  2118.14181655, -1863.56528496,\n",
       "        -734.93731312,   998.29662904,   998.29662904,  -734.93731312,\n",
       "       -1206.69168635,  1428.66419242,  1428.66419242, -1206.69168635,\n",
       "           0.        ,     0.        ,     0.        ,     0.        ,\n",
       "           0.        ,     0.        ,     0.        ,     0.        ,\n",
       "        2526.5702202 , -2305.8405677 , -2305.8405677 ,  2526.5702202 ,\n",
       "        2412.40483921, -2120.11955195, -2120.11955195,  2412.40483921,\n",
       "        1779.56163833, -1555.70414956, -1555.70414956,  1779.56163833,\n",
       "         950.46992314,  -640.74464202,  -640.74464202,   950.46992314,\n",
       "        1805.14515448, -1508.30923668, -1508.30923668,  1805.14515448,\n",
       "         532.28995699,  -301.14627484,  -301.14627484,   532.28995699,\n",
       "        1090.4050452 ,  -855.56907603,  -855.56907603,  1090.4050452 ,\n",
       "       -5223.24918817,  5462.93226844,  5462.93226844, -5223.24918817,\n",
       "        1071.24987211,  -822.38785239,  -822.38785239,  1071.24987211,\n",
       "        -644.05217777,   865.40325706,   865.40325706,  -644.05217777,\n",
       "           0.        ,     0.        ,     0.        ,     0.        ,\n",
       "        -215.84223929,   427.00197282,   427.00197282,  -215.84223929,\n",
       "        3724.06333266, -3383.89605851, -3383.89605851,  3724.06333266,\n",
       "        2782.08434675, -2524.91855175, -2524.91855175,  2782.08434675,\n",
       "        3720.16868883, -3473.42209906, -3473.42209906,  3720.16868883,\n",
       "           0.        ,     0.        ,     0.        ,     0.        ,\n",
       "        3190.09008298, -2913.47114885, -2913.47114885,  3190.09008298,\n",
       "           0.        ,     0.        ,     0.        ,     0.        ,\n",
       "        5359.15681   , -5062.88275517, -5062.88275517,  5359.15681   ,\n",
       "           0.        ,     0.        ,     0.        ,     0.        ,\n",
       "        7149.76466657, -6963.5447246 , -6963.5447246 ,  7149.76466657,\n",
       "        6145.41985152, -5836.59304698, -5836.59304698,  6145.41985152,\n",
       "       -1579.12907439,  1579.12907439,  1579.12907439, -1579.12907439,\n",
       "        -209.41616949,   209.41616949,   209.41616949,  -209.41616949,\n",
       "        1735.25816461, -1735.25816461, -1735.25816461,  1735.25816461])"
      ]
     },
     "execution_count": 72,
     "metadata": {},
     "output_type": "execute_result"
    }
   ],
   "source": [
    "MLR.coef_"
   ]
  },
  {
   "cell_type": "code",
   "execution_count": 73,
   "id": "ab45c4b1",
   "metadata": {},
   "outputs": [
    {
     "data": {
      "text/plain": [
       "46698.32041414423"
      ]
     },
     "execution_count": 73,
     "metadata": {},
     "output_type": "execute_result"
    }
   ],
   "source": [
    "MLR.intercept_"
   ]
  },
  {
   "cell_type": "code",
   "execution_count": 80,
   "id": "e9bf1736",
   "metadata": {},
   "outputs": [
    {
     "data": {
      "text/plain": [
       "array([103282.38, 144259.4 , 146121.95,  77798.83, 191050.39, 105008.31,\n",
       "        81229.06,  97483.56, 110352.25, 166187.94])"
      ]
     },
     "execution_count": 80,
     "metadata": {},
     "output_type": "execute_result"
    }
   ],
   "source": [
    "#checking\n",
    "test_Y"
   ]
  },
  {
   "cell_type": "code",
   "execution_count": 81,
   "id": "1953b05f",
   "metadata": {},
   "outputs": [
    {
     "data": {
      "text/plain": [
       "array([112591.05527263, 107112.20365301, 112591.05527263, 112157.83686637,\n",
       "       112591.05527263, 120369.75260901, 118779.4681599 , 120369.75260901,\n",
       "       112591.05527263, 112591.05527263])"
      ]
     },
     "execution_count": 81,
     "metadata": {},
     "output_type": "execute_result"
    }
   ],
   "source": [
    "pred_Y"
   ]
  },
  {
   "cell_type": "code",
   "execution_count": null,
   "id": "23841bb8",
   "metadata": {},
   "outputs": [],
   "source": [
    "#this is not good way of prediction of multiple linear regression"
   ]
  },
  {
   "cell_type": "markdown",
   "id": "d395cff8",
   "metadata": {},
   "source": [
    "Backward Elimination"
   ]
  },
  {
   "cell_type": "code",
   "execution_count": null,
   "id": "a24f4e54",
   "metadata": {},
   "outputs": [],
   "source": [
    "print(\"hi\")"
   ]
  },
  {
   "cell_type": "code",
   "execution_count": 4,
   "id": "def0dc4d",
   "metadata": {},
   "outputs": [],
   "source": [
    "# to perform backward elimeination we need value of key and an sl may be simple linear regression\n",
    "# and we get this via it's summary function"
   ]
  },
  {
   "cell_type": "code",
   "execution_count": null,
   "id": "02a26f44",
   "metadata": {},
   "outputs": [],
   "source": []
  }
 ],
 "metadata": {
  "kernelspec": {
   "display_name": "Python 3",
   "language": "python",
   "name": "python3"
  },
  "language_info": {
   "codemirror_mode": {
    "name": "ipython",
    "version": 3
   },
   "file_extension": ".py",
   "mimetype": "text/x-python",
   "name": "python",
   "nbconvert_exporter": "python",
   "pygments_lexer": "ipython3",
   "version": "3.8.8"
  }
 },
 "nbformat": 4,
 "nbformat_minor": 5
}
