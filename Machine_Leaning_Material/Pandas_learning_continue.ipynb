{
 "cells": [
  {
   "cell_type": "markdown",
   "id": "16047e25",
   "metadata": {},
   "source": [
    "# Learning Pandas\n"
   ]
  },
  {
   "cell_type": "code",
   "execution_count": 10,
   "id": "598db87c",
   "metadata": {},
   "outputs": [
    {
     "name": "stdout",
     "output_type": "stream",
     "text": [
      "   #                   Name Type 1  Type 2  HP  Attack  Defense  Sp. Atk  \\\n",
      "0  1              Bulbasaur  Grass  Poison  45      49       49       65   \n",
      "1  2                Ivysaur  Grass  Poison  60      62       63       80   \n",
      "2  3               Venusaur  Grass  Poison  80      82       83      100   \n",
      "3  3  VenusaurMega Venusaur  Grass  Poison  80     100      123      122   \n",
      "4  4             Charmander   Fire     NaN  39      52       43       60   \n",
      "\n",
      "   Sp. Def  Speed  Generation  Legendary  \n",
      "0       65     45           1      False  \n",
      "1       80     60           1      False  \n",
      "2      100     80           1      False  \n",
      "3      120     80           1      False  \n",
      "4       50     65           1      False  \n",
      "-------------------------------------------------------------------------\n",
      "       #                 Name   Type 1 Type 2  HP  Attack  Defense  Sp. Atk  \\\n",
      "795  719              Diancie     Rock  Fairy  50     100      150      100   \n",
      "796  719  DiancieMega Diancie     Rock  Fairy  50     160      110      160   \n",
      "797  720  HoopaHoopa Confined  Psychic  Ghost  80     110       60      150   \n",
      "798  720   HoopaHoopa Unbound  Psychic   Dark  80     160       60      170   \n",
      "799  721            Volcanion     Fire  Water  80     110      120      130   \n",
      "\n",
      "     Sp. Def  Speed  Generation  Legendary  \n",
      "795      150     50           6       True  \n",
      "796      110    110           6       True  \n",
      "797      130     70           6       True  \n",
      "798      130     80           6       True  \n",
      "799       90     70           6       True  \n"
     ]
    }
   ],
   "source": [
    "import pandas as pd\n",
    "\n",
    "#loading the file in dataframe an object in pandas\n",
    "df = pd.read_csv(r'/Users/divyashahi/OneDrive - Adobe/Machine_Leaning_Material/pokemon_data.csv')\n",
    "#print(df)\n",
    "print(df.head(5))\n",
    "print(\"-------------------------------------------------------------------------\")\n",
    "print(df.tail(5))\n",
    "\n"
   ]
  },
  {
   "cell_type": "code",
   "execution_count": 13,
   "id": "3370dc81",
   "metadata": {},
   "outputs": [
    {
     "name": "stdout",
     "output_type": "stream",
     "text": [
      "   #                   Name Type 1  Type 2  HP  Attack  Defense  Sp. Atk  \\\n",
      "0  1              Bulbasaur  Grass  Poison  45      49       49       65   \n",
      "1  2                Ivysaur  Grass  Poison  60      62       63       80   \n",
      "2  3               Venusaur  Grass  Poison  80      82       83      100   \n",
      "3  3  VenusaurMega Venusaur  Grass  Poison  80     100      123      122   \n",
      "4  4             Charmander   Fire     NaN  39      52       43       60   \n",
      "\n",
      "   Sp. Def  Speed  Generation  Legendary  \n",
      "0       65     45           1      False  \n",
      "1       80     60           1      False  \n",
      "2      100     80           1      False  \n",
      "3      120     80           1      False  \n",
      "4       50     65           1      False  \n",
      "--------------------------------------------------------------------------------\n",
      "       #                 Name   Type 1 Type 2  HP  Attack  Defense  Sp. Atk  \\\n",
      "795  719              Diancie     Rock  Fairy  50     100      150      100   \n",
      "796  719  DiancieMega Diancie     Rock  Fairy  50     160      110      160   \n",
      "797  720  HoopaHoopa Confined  Psychic  Ghost  80     110       60      150   \n",
      "798  720   HoopaHoopa Unbound  Psychic   Dark  80     160       60      170   \n",
      "799  721            Volcanion     Fire  Water  80     110      120      130   \n",
      "\n",
      "     Sp. Def  Speed  Generation  Legendary  \n",
      "795      150     50           6       True  \n",
      "796      110    110           6       True  \n",
      "797      130     70           6       True  \n",
      "798      130     80           6       True  \n",
      "799       90     70           6       True  \n"
     ]
    }
   ],
   "source": [
    "#read data from excel file\n",
    "df_xlsx = pd.read_excel(r'/Users/divyashahi/OneDrive - Adobe/Machine_Leaning_Material/pokemon_data.xlsx')\n",
    "print(df_xlsx.head(5))\n",
    "print('--------------------------------------------------------------------------------')\n",
    "print(df_xlsx.tail(5))"
   ]
  },
  {
   "cell_type": "code",
   "execution_count": 15,
   "id": "eb90b3a8",
   "metadata": {},
   "outputs": [
    {
     "name": "stdout",
     "output_type": "stream",
     "text": [
      "   #                   Name Type 1  Type 2  HP  Attack  Defense  Sp. Atk  \\\n",
      "0  1              Bulbasaur  Grass  Poison  45      49       49       65   \n",
      "1  2                Ivysaur  Grass  Poison  60      62       63       80   \n",
      "2  3               Venusaur  Grass  Poison  80      82       83      100   \n",
      "3  3  VenusaurMega Venusaur  Grass  Poison  80     100      123      122   \n",
      "4  4             Charmander   Fire     NaN  39      52       43       60   \n",
      "\n",
      "   Sp. Def  Speed  Generation  Legendary  \n",
      "0       65     45           1      False  \n",
      "1       80     60           1      False  \n",
      "2      100     80           1      False  \n",
      "3      120     80           1      False  \n",
      "4       50     65           1      False  \n",
      "--------------------------------------------------------------------------------\n",
      "       #                 Name   Type 1 Type 2  HP  Attack  Defense  Sp. Atk  \\\n",
      "795  719              Diancie     Rock  Fairy  50     100      150      100   \n",
      "796  719  DiancieMega Diancie     Rock  Fairy  50     160      110      160   \n",
      "797  720  HoopaHoopa Confined  Psychic  Ghost  80     110       60      150   \n",
      "798  720   HoopaHoopa Unbound  Psychic   Dark  80     160       60      170   \n",
      "799  721            Volcanion     Fire  Water  80     110      120      130   \n",
      "\n",
      "     Sp. Def  Speed  Generation  Legendary  \n",
      "795      150     50           6       True  \n",
      "796      110    110           6       True  \n",
      "797      130     70           6       True  \n",
      "798      130     80           6       True  \n",
      "799       90     70           6       True  \n"
     ]
    }
   ],
   "source": [
    "df_txt = pd.read_csv(r'/Users/divyashahi/OneDrive - Adobe/Machine_Leaning_Material/pokemon_data.txt', delimiter ='\\t')\n",
    "#print(df_txt) prints all row information in one column\n",
    "print(df_txt.head(5))\n",
    "print('--------------------------------------------------------------------------------')\n",
    "print(df_txt.tail(5))"
   ]
  },
  {
   "cell_type": "markdown",
   "id": "5b322c9d",
   "metadata": {},
   "source": [
    "# Reading data in header\n"
   ]
  },
  {
   "cell_type": "code",
   "execution_count": null,
   "id": "f1067ffc",
   "metadata": {},
   "outputs": [],
   "source": []
  }
 ],
 "metadata": {
  "kernelspec": {
   "display_name": "Python 3",
   "language": "python",
   "name": "python3"
  },
  "language_info": {
   "codemirror_mode": {
    "name": "ipython",
    "version": 3
   },
   "file_extension": ".py",
   "mimetype": "text/x-python",
   "name": "python",
   "nbconvert_exporter": "python",
   "pygments_lexer": "ipython3",
   "version": "3.8.8"
  }
 },
 "nbformat": 4,
 "nbformat_minor": 5
}
